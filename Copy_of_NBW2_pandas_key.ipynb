{
  "nbformat": 4,
  "nbformat_minor": 0,
  "metadata": {
    "colab": {
      "provenance": [],
      "include_colab_link": true
    },
    "kernelspec": {
      "display_name": "Python 3",
      "language": "python",
      "name": "python3"
    },
    "language_info": {
      "codemirror_mode": {
        "name": "ipython",
        "version": 3
      },
      "file_extension": ".py",
      "mimetype": "text/x-python",
      "name": "python",
      "nbconvert_exporter": "python",
      "pygments_lexer": "ipython3",
      "version": "3.7.7"
    }
  },
  "cells": [
    {
      "cell_type": "markdown",
      "metadata": {
        "id": "view-in-github",
        "colab_type": "text"
      },
      "source": [
        "<a href=\"https://colab.research.google.com/github/nolgalindo/Node/blob/main/Copy_of_NBW2_pandas_key.ipynb\" target=\"_parent\"><img src=\"https://colab.research.google.com/assets/colab-badge.svg\" alt=\"Open In Colab\"/></a>"
      ]
    },
    {
      "cell_type": "markdown",
      "metadata": {
        "id": "p9RC9pBA1Mm2"
      },
      "source": [
        "##  A Quick Review from W1"
      ]
    },
    {
      "cell_type": "markdown",
      "metadata": {
        "id": "K7Tnbs-9hwsv"
      },
      "source": [
        "Before pulling any data, we've gotta import all the packages we need"
      ]
    },
    {
      "cell_type": "code",
      "metadata": {
        "id": "AX9A5eDRhraN",
        "tags": [
          "workshop"
        ]
      },
      "source": [
        "import pandas as pd\n",
        "import numpy as np\n",
        "\n",
        "pd.set_option(\"display.max_rows\", 6)"
      ],
      "execution_count": null,
      "outputs": []
    },
    {
      "cell_type": "markdown",
      "metadata": {
        "id": "EBICO5ejh2ul"
      },
      "source": [
        "Now we can read in the data from a link OR from a file in the same directory\n",
        "\n",
        "URL: `https://raw.githubusercontent.com/ishaandey/node/master/week-2/workshop/imdb.csv`"
      ]
    },
    {
      "cell_type": "code",
      "metadata": {
        "id": "gG-ti6WYeOob",
        "tags": [
          "workshop"
        ]
      },
      "source": [
        "movies = pd.read_csv('https://raw.githubusercontent.com/ishaandey/node/master/week-2/workshop/imdb.csv')"
      ],
      "execution_count": null,
      "outputs": []
    },
    {
      "cell_type": "markdown",
      "metadata": {
        "id": "ymvtDsVeiABB"
      },
      "source": [
        "Take a quick look at the data"
      ]
    },
    {
      "cell_type": "code",
      "metadata": {
        "id": "0WMFka4Nhoq-",
        "tags": [
          "workshop"
        ],
        "colab": {
          "base_uri": "https://localhost:8080/",
          "height": 382
        },
        "outputId": "77048ce8-7dac-4d36-8713-4d7485ca3331"
      },
      "source": [
        "movies.head()"
      ],
      "execution_count": null,
      "outputs": [
        {
          "output_type": "execute_result",
          "data": {
            "text/html": [
              "<div>\n",
              "<style scoped>\n",
              "    .dataframe tbody tr th:only-of-type {\n",
              "        vertical-align: middle;\n",
              "    }\n",
              "\n",
              "    .dataframe tbody tr th {\n",
              "        vertical-align: top;\n",
              "    }\n",
              "\n",
              "    .dataframe thead th {\n",
              "        text-align: right;\n",
              "    }\n",
              "</style>\n",
              "<table border=\"1\" class=\"dataframe\">\n",
              "  <thead>\n",
              "    <tr style=\"text-align: right;\">\n",
              "      <th></th>\n",
              "      <th>movie_title</th>\n",
              "      <th>imdb_score</th>\n",
              "      <th>content_rating</th>\n",
              "      <th>budget</th>\n",
              "      <th>gross</th>\n",
              "      <th>duration</th>\n",
              "      <th>genres</th>\n",
              "      <th>actor_1_name</th>\n",
              "      <th>actor_2_name</th>\n",
              "      <th>actor_3_name</th>\n",
              "      <th>director_name</th>\n",
              "      <th>language</th>\n",
              "      <th>country</th>\n",
              "      <th>aspect_ratio</th>\n",
              "      <th>title_year</th>\n",
              "    </tr>\n",
              "  </thead>\n",
              "  <tbody>\n",
              "    <tr>\n",
              "      <th>0</th>\n",
              "      <td>Avatar</td>\n",
              "      <td>7.9</td>\n",
              "      <td>PG-13</td>\n",
              "      <td>237000000.0</td>\n",
              "      <td>760505847.0</td>\n",
              "      <td>178.0</td>\n",
              "      <td>Action|Adventure|Fantasy|Sci-Fi</td>\n",
              "      <td>CCH Pounder</td>\n",
              "      <td>Joel David Moore</td>\n",
              "      <td>Wes Studi</td>\n",
              "      <td>James Cameron</td>\n",
              "      <td>English</td>\n",
              "      <td>USA</td>\n",
              "      <td>1.78</td>\n",
              "      <td>2009.0</td>\n",
              "    </tr>\n",
              "    <tr>\n",
              "      <th>1</th>\n",
              "      <td>Pirates of the Caribbean: At World's End</td>\n",
              "      <td>7.1</td>\n",
              "      <td>PG-13</td>\n",
              "      <td>300000000.0</td>\n",
              "      <td>309404152.0</td>\n",
              "      <td>169.0</td>\n",
              "      <td>Action|Adventure|Fantasy</td>\n",
              "      <td>Johnny Depp</td>\n",
              "      <td>Orlando Bloom</td>\n",
              "      <td>Jack Davenport</td>\n",
              "      <td>Gore Verbinski</td>\n",
              "      <td>English</td>\n",
              "      <td>USA</td>\n",
              "      <td>2.35</td>\n",
              "      <td>2007.0</td>\n",
              "    </tr>\n",
              "    <tr>\n",
              "      <th>2</th>\n",
              "      <td>Spectre</td>\n",
              "      <td>6.8</td>\n",
              "      <td>PG-13</td>\n",
              "      <td>245000000.0</td>\n",
              "      <td>200074175.0</td>\n",
              "      <td>148.0</td>\n",
              "      <td>Action|Adventure|Thriller</td>\n",
              "      <td>Christoph Waltz</td>\n",
              "      <td>Rory Kinnear</td>\n",
              "      <td>Stephanie Sigman</td>\n",
              "      <td>Sam Mendes</td>\n",
              "      <td>English</td>\n",
              "      <td>UK</td>\n",
              "      <td>2.35</td>\n",
              "      <td>2015.0</td>\n",
              "    </tr>\n",
              "    <tr>\n",
              "      <th>3</th>\n",
              "      <td>The Dark Knight Rises</td>\n",
              "      <td>8.5</td>\n",
              "      <td>PG-13</td>\n",
              "      <td>250000000.0</td>\n",
              "      <td>448130642.0</td>\n",
              "      <td>164.0</td>\n",
              "      <td>Action|Thriller</td>\n",
              "      <td>Tom Hardy</td>\n",
              "      <td>Christian Bale</td>\n",
              "      <td>Joseph Gordon-Levitt</td>\n",
              "      <td>Christopher Nolan</td>\n",
              "      <td>English</td>\n",
              "      <td>USA</td>\n",
              "      <td>2.35</td>\n",
              "      <td>2012.0</td>\n",
              "    </tr>\n",
              "    <tr>\n",
              "      <th>4</th>\n",
              "      <td>Star Wars: Episode VII - The Force Awakens    ...</td>\n",
              "      <td>7.1</td>\n",
              "      <td>NaN</td>\n",
              "      <td>NaN</td>\n",
              "      <td>NaN</td>\n",
              "      <td>NaN</td>\n",
              "      <td>Documentary</td>\n",
              "      <td>Doug Walker</td>\n",
              "      <td>Rob Walker</td>\n",
              "      <td>NaN</td>\n",
              "      <td>Doug Walker</td>\n",
              "      <td>NaN</td>\n",
              "      <td>NaN</td>\n",
              "      <td>NaN</td>\n",
              "      <td>NaN</td>\n",
              "    </tr>\n",
              "  </tbody>\n",
              "</table>\n",
              "</div>"
            ],
            "text/plain": [
              "                                         movie_title  ...  title_year\n",
              "0                                            Avatar   ...      2009.0\n",
              "1          Pirates of the Caribbean: At World's End   ...      2007.0\n",
              "2                                           Spectre   ...      2015.0\n",
              "3                             The Dark Knight Rises   ...      2012.0\n",
              "4  Star Wars: Episode VII - The Force Awakens    ...  ...         NaN\n",
              "\n",
              "[5 rows x 15 columns]"
            ]
          },
          "metadata": {},
          "execution_count": 4
        }
      ]
    },
    {
      "cell_type": "markdown",
      "metadata": {
        "id": "RZDEJHEniIh8",
        "tags": [
          "workshop"
        ]
      },
      "source": [
        "How many rows are there? Columns?"
      ]
    },
    {
      "cell_type": "code",
      "metadata": {
        "id": "gaJnsBHRiE4i",
        "tags": [
          "workshop"
        ],
        "colab": {
          "base_uri": "https://localhost:8080/"
        },
        "outputId": "1cfff1cf-7fdf-41cd-e5ed-a6eda978ddc5"
      },
      "source": [
        "movies.shape"
      ],
      "execution_count": null,
      "outputs": [
        {
          "output_type": "execute_result",
          "data": {
            "text/plain": [
              "(5043, 15)"
            ]
          },
          "metadata": {},
          "execution_count": 5
        }
      ]
    },
    {
      "cell_type": "markdown",
      "metadata": {
        "id": "p8DRdBzOgVC8"
      },
      "source": [
        "There's a lot of columns, could we get a full list? "
      ]
    },
    {
      "cell_type": "code",
      "metadata": {
        "tags": [
          "workshop"
        ],
        "id": "E-_6g4D0gVC9",
        "colab": {
          "base_uri": "https://localhost:8080/"
        },
        "outputId": "31e1e6ef-1276-4980-918b-b36c7ebad071"
      },
      "source": [
        "movies.columns"
      ],
      "execution_count": null,
      "outputs": [
        {
          "output_type": "execute_result",
          "data": {
            "text/plain": [
              "Index(['movie_title', 'imdb_score', 'content_rating', 'budget', 'gross',\n",
              "       'duration', 'genres', 'actor_1_name', 'actor_2_name', 'actor_3_name',\n",
              "       'director_name', 'language', 'country', 'aspect_ratio', 'title_year'],\n",
              "      dtype='object')"
            ]
          },
          "metadata": {},
          "execution_count": 6
        }
      ]
    },
    {
      "cell_type": "markdown",
      "metadata": {
        "id": "99jVdUv0gVC9"
      },
      "source": [
        "# Pandas Foundations"
      ]
    },
    {
      "cell_type": "markdown",
      "metadata": {
        "id": "0HPd_43AgVC9"
      },
      "source": [
        "## Dataframe who?"
      ]
    },
    {
      "cell_type": "markdown",
      "metadata": {
        "id": "0oiRjpOGgVC-"
      },
      "source": [
        "Think of dataframes as little \"spreadsheets\" that hold our data.\n",
        "<br>Each row represents an observation, and each column represents some feature about that data.\n",
        "\n",
        "<br> With little bits of code, we can modify what that spreadsheet looks like.\n",
        "<br> For example, our raw data `movies` can be transformed to show some metric about some feature for some subset of the data"
      ]
    },
    {
      "cell_type": "code",
      "metadata": {
        "id": "fec5L0A6gVC-",
        "colab": {
          "base_uri": "https://localhost:8080/",
          "height": 206
        },
        "outputId": "409fc5a6-cc25-45f3-c586-a45aebf9a519"
      },
      "source": [
        "# For example:\n",
        "movies[movies.country.isin(['USA','France','UK'])].groupby('country')[['gross', 'budget']].agg(['median','max'])"
      ],
      "execution_count": null,
      "outputs": [
        {
          "output_type": "execute_result",
          "data": {
            "text/html": [
              "<div>\n",
              "<style scoped>\n",
              "    .dataframe tbody tr th:only-of-type {\n",
              "        vertical-align: middle;\n",
              "    }\n",
              "\n",
              "    .dataframe tbody tr th {\n",
              "        vertical-align: top;\n",
              "    }\n",
              "\n",
              "    .dataframe thead tr th {\n",
              "        text-align: left;\n",
              "    }\n",
              "\n",
              "    .dataframe thead tr:last-of-type th {\n",
              "        text-align: right;\n",
              "    }\n",
              "</style>\n",
              "<table border=\"1\" class=\"dataframe\">\n",
              "  <thead>\n",
              "    <tr>\n",
              "      <th></th>\n",
              "      <th colspan=\"2\" halign=\"left\">gross</th>\n",
              "      <th colspan=\"2\" halign=\"left\">budget</th>\n",
              "    </tr>\n",
              "    <tr>\n",
              "      <th></th>\n",
              "      <th>median</th>\n",
              "      <th>max</th>\n",
              "      <th>median</th>\n",
              "      <th>max</th>\n",
              "    </tr>\n",
              "    <tr>\n",
              "      <th>country</th>\n",
              "      <th></th>\n",
              "      <th></th>\n",
              "      <th></th>\n",
              "      <th></th>\n",
              "    </tr>\n",
              "  </thead>\n",
              "  <tbody>\n",
              "    <tr>\n",
              "      <th>France</th>\n",
              "      <td>4291965.0</td>\n",
              "      <td>145000989.0</td>\n",
              "      <td>19715000.0</td>\n",
              "      <td>390000000.0</td>\n",
              "    </tr>\n",
              "    <tr>\n",
              "      <th>UK</th>\n",
              "      <td>13401683.0</td>\n",
              "      <td>362645141.0</td>\n",
              "      <td>15000000.0</td>\n",
              "      <td>250000000.0</td>\n",
              "    </tr>\n",
              "    <tr>\n",
              "      <th>USA</th>\n",
              "      <td>32178777.0</td>\n",
              "      <td>760505847.0</td>\n",
              "      <td>20000000.0</td>\n",
              "      <td>300000000.0</td>\n",
              "    </tr>\n",
              "  </tbody>\n",
              "</table>\n",
              "</div>"
            ],
            "text/plain": [
              "              gross                   budget             \n",
              "             median          max      median          max\n",
              "country                                                  \n",
              "France    4291965.0  145000989.0  19715000.0  390000000.0\n",
              "UK       13401683.0  362645141.0  15000000.0  250000000.0\n",
              "USA      32178777.0  760505847.0  20000000.0  300000000.0"
            ]
          },
          "metadata": {},
          "execution_count": 7
        }
      ]
    },
    {
      "cell_type": "markdown",
      "metadata": {
        "id": "BbPGp-dGgVC-"
      },
      "source": [
        "## Series vs. Dataframes "
      ]
    },
    {
      "cell_type": "markdown",
      "metadata": {
        "id": "lkj5yiM2gVC-"
      },
      "source": [
        "We've been referring to *2 dimensional* tables using the `pd.DataFrame` object\n",
        "<br>An individual column (or row), is *1 dimensional*. We call this a `pd.Series` object"
      ]
    },
    {
      "cell_type": "code",
      "metadata": {
        "id": "eF4q7e47gVC_",
        "colab": {
          "base_uri": "https://localhost:8080/"
        },
        "outputId": "ecd86ba7-ca12-44cf-e284-5fbf909df92b"
      },
      "source": [
        "type(movies)"
      ],
      "execution_count": null,
      "outputs": [
        {
          "output_type": "execute_result",
          "data": {
            "text/plain": [
              "pandas.core.frame.DataFrame"
            ]
          },
          "metadata": {},
          "execution_count": 8
        }
      ]
    },
    {
      "cell_type": "markdown",
      "metadata": {
        "id": "GISoQkongVC_"
      },
      "source": [
        "We can access a series (always 1-dimensional) using either: `df.column` OR `df['column']`"
      ]
    },
    {
      "cell_type": "code",
      "metadata": {
        "id": "gTvwqUS0gVC_",
        "colab": {
          "base_uri": "https://localhost:8080/"
        },
        "outputId": "a2625210-f8d7-42e8-8405-c7eb48eeac49"
      },
      "source": [
        "type(movies.imdb_score)"
      ],
      "execution_count": null,
      "outputs": [
        {
          "output_type": "execute_result",
          "data": {
            "text/plain": [
              "pandas.core.series.Series"
            ]
          },
          "metadata": {},
          "execution_count": 10
        }
      ]
    },
    {
      "cell_type": "code",
      "metadata": {
        "id": "rx6Y4HaqgVC_",
        "colab": {
          "base_uri": "https://localhost:8080/"
        },
        "outputId": "3971537b-c589-48fc-b425-1635cf1610a1"
      },
      "source": [
        "movies['imdb_score'] #returns the same thing as the one above inside the parenthesis"
      ],
      "execution_count": null,
      "outputs": [
        {
          "output_type": "execute_result",
          "data": {
            "text/plain": [
              "0       7.9\n",
              "1       7.1\n",
              "2       6.8\n",
              "       ... \n",
              "5040    6.3\n",
              "5041    6.3\n",
              "5042    6.6\n",
              "Name: imdb_score, Length: 5043, dtype: float64"
            ]
          },
          "metadata": {},
          "execution_count": 12
        }
      ]
    },
    {
      "cell_type": "markdown",
      "metadata": {
        "id": "fuhmJkD6gVC_"
      },
      "source": [
        "To select a **row** as a series, we can use `df.iloc[]` and a specific row number (its index)"
      ]
    },
    {
      "cell_type": "code",
      "metadata": {
        "id": "kARkSRNfgVC_",
        "colab": {
          "base_uri": "https://localhost:8080/",
          "height": 35
        },
        "outputId": "70878d83-b342-4c92-9d53-540387259e69"
      },
      "source": [
        "myrow = movies.iloc[4]\n",
        "myrow[0] #accessing the first element\n",
        "myrow['movie_title'] #accessing this specific item"
      ],
      "execution_count": null,
      "outputs": [
        {
          "output_type": "execute_result",
          "data": {
            "application/vnd.google.colaboratory.intrinsic+json": {
              "type": "string"
            },
            "text/plain": [
              "'Star Wars: Episode VII - The Force Awakens\\xa0            '"
            ]
          },
          "metadata": {},
          "execution_count": 15
        }
      ]
    },
    {
      "cell_type": "markdown",
      "metadata": {
        "id": "_pbMGON3gVDA"
      },
      "source": [
        "## Subsetting Columns"
      ]
    },
    {
      "cell_type": "markdown",
      "metadata": {
        "id": "Lumg0wragVDA"
      },
      "source": [
        "Subsetting and filtering is one of the most important, yet confusing topics when getting started.\n",
        "<br>As we go along, feel free to run the code part by part to see what's going on in each step. `type()` is also a great tool here"
      ]
    },
    {
      "cell_type": "markdown",
      "metadata": {
        "id": "KTbwVcANgVDA"
      },
      "source": [
        "Lets take a look at a smaller set of columns, say the movie title, actors & director name"
      ]
    },
    {
      "cell_type": "code",
      "metadata": {
        "id": "AtzZGgXngVDA",
        "colab": {
          "base_uri": "https://localhost:8080/",
          "height": 298
        },
        "outputId": "ec345dd5-1f20-4101-9e76-1e1e74bb5d6a"
      },
      "source": [
        "movies[['movie_title','actor_1_name','actor_2_name','actor_3_name','director_name']] # Note TWO square brackets"
      ],
      "execution_count": null,
      "outputs": [
        {
          "output_type": "execute_result",
          "data": {
            "text/html": [
              "<div>\n",
              "<style scoped>\n",
              "    .dataframe tbody tr th:only-of-type {\n",
              "        vertical-align: middle;\n",
              "    }\n",
              "\n",
              "    .dataframe tbody tr th {\n",
              "        vertical-align: top;\n",
              "    }\n",
              "\n",
              "    .dataframe thead th {\n",
              "        text-align: right;\n",
              "    }\n",
              "</style>\n",
              "<table border=\"1\" class=\"dataframe\">\n",
              "  <thead>\n",
              "    <tr style=\"text-align: right;\">\n",
              "      <th></th>\n",
              "      <th>movie_title</th>\n",
              "      <th>actor_1_name</th>\n",
              "      <th>actor_2_name</th>\n",
              "      <th>actor_3_name</th>\n",
              "      <th>director_name</th>\n",
              "    </tr>\n",
              "  </thead>\n",
              "  <tbody>\n",
              "    <tr>\n",
              "      <th>0</th>\n",
              "      <td>Avatar</td>\n",
              "      <td>CCH Pounder</td>\n",
              "      <td>Joel David Moore</td>\n",
              "      <td>Wes Studi</td>\n",
              "      <td>James Cameron</td>\n",
              "    </tr>\n",
              "    <tr>\n",
              "      <th>1</th>\n",
              "      <td>Pirates of the Caribbean: At World's End</td>\n",
              "      <td>Johnny Depp</td>\n",
              "      <td>Orlando Bloom</td>\n",
              "      <td>Jack Davenport</td>\n",
              "      <td>Gore Verbinski</td>\n",
              "    </tr>\n",
              "    <tr>\n",
              "      <th>2</th>\n",
              "      <td>Spectre</td>\n",
              "      <td>Christoph Waltz</td>\n",
              "      <td>Rory Kinnear</td>\n",
              "      <td>Stephanie Sigman</td>\n",
              "      <td>Sam Mendes</td>\n",
              "    </tr>\n",
              "    <tr>\n",
              "      <th>...</th>\n",
              "      <td>...</td>\n",
              "      <td>...</td>\n",
              "      <td>...</td>\n",
              "      <td>...</td>\n",
              "      <td>...</td>\n",
              "    </tr>\n",
              "    <tr>\n",
              "      <th>5040</th>\n",
              "      <td>A Plague So Pleasant</td>\n",
              "      <td>Eva Boehnke</td>\n",
              "      <td>Maxwell Moody</td>\n",
              "      <td>David Chandler</td>\n",
              "      <td>Benjamin Roberds</td>\n",
              "    </tr>\n",
              "    <tr>\n",
              "      <th>5041</th>\n",
              "      <td>Shanghai Calling</td>\n",
              "      <td>Alan Ruck</td>\n",
              "      <td>Daniel Henney</td>\n",
              "      <td>Eliza Coupe</td>\n",
              "      <td>Daniel Hsia</td>\n",
              "    </tr>\n",
              "    <tr>\n",
              "      <th>5042</th>\n",
              "      <td>My Date with Drew</td>\n",
              "      <td>John August</td>\n",
              "      <td>Brian Herzlinger</td>\n",
              "      <td>Jon Gunn</td>\n",
              "      <td>Jon Gunn</td>\n",
              "    </tr>\n",
              "  </tbody>\n",
              "</table>\n",
              "<p>5043 rows × 5 columns</p>\n",
              "</div>"
            ],
            "text/plain": [
              "                                    movie_title  ...     director_name\n",
              "0                                       Avatar   ...     James Cameron\n",
              "1     Pirates of the Caribbean: At World's End   ...    Gore Verbinski\n",
              "2                                      Spectre   ...        Sam Mendes\n",
              "...                                         ...  ...               ...\n",
              "5040                      A Plague So Pleasant   ...  Benjamin Roberds\n",
              "5041                          Shanghai Calling   ...       Daniel Hsia\n",
              "5042                         My Date with Drew   ...          Jon Gunn\n",
              "\n",
              "[5043 rows x 5 columns]"
            ]
          },
          "metadata": {},
          "execution_count": 19
        }
      ]
    },
    {
      "cell_type": "markdown",
      "metadata": {
        "id": "sud7p1gVgVDA"
      },
      "source": [
        "Side Note: Why did we use two square brackets? What we're doing is passing a `list` to the subset function.\n",
        "<br> Pandas `DataFrame` objects know that whenever we place `[]` after it, we're looking to do some sort of filtering operation"
      ]
    },
    {
      "cell_type": "code",
      "metadata": {
        "tags": [
          "workshop"
        ],
        "id": "CrBnjjt-gVDA",
        "colab": {
          "base_uri": "https://localhost:8080/",
          "height": 298
        },
        "outputId": "1e90b0ae-e8e9-47de-a209-1aa1ffca5055"
      },
      "source": [
        "actor_cols = ['actor_1_name','actor_2_name','actor_3_name']\n",
        "movies[actor_cols] #doing the same thing as above"
      ],
      "execution_count": null,
      "outputs": [
        {
          "output_type": "execute_result",
          "data": {
            "text/html": [
              "<div>\n",
              "<style scoped>\n",
              "    .dataframe tbody tr th:only-of-type {\n",
              "        vertical-align: middle;\n",
              "    }\n",
              "\n",
              "    .dataframe tbody tr th {\n",
              "        vertical-align: top;\n",
              "    }\n",
              "\n",
              "    .dataframe thead th {\n",
              "        text-align: right;\n",
              "    }\n",
              "</style>\n",
              "<table border=\"1\" class=\"dataframe\">\n",
              "  <thead>\n",
              "    <tr style=\"text-align: right;\">\n",
              "      <th></th>\n",
              "      <th>actor_1_name</th>\n",
              "      <th>actor_2_name</th>\n",
              "      <th>actor_3_name</th>\n",
              "    </tr>\n",
              "  </thead>\n",
              "  <tbody>\n",
              "    <tr>\n",
              "      <th>0</th>\n",
              "      <td>CCH Pounder</td>\n",
              "      <td>Joel David Moore</td>\n",
              "      <td>Wes Studi</td>\n",
              "    </tr>\n",
              "    <tr>\n",
              "      <th>1</th>\n",
              "      <td>Johnny Depp</td>\n",
              "      <td>Orlando Bloom</td>\n",
              "      <td>Jack Davenport</td>\n",
              "    </tr>\n",
              "    <tr>\n",
              "      <th>2</th>\n",
              "      <td>Christoph Waltz</td>\n",
              "      <td>Rory Kinnear</td>\n",
              "      <td>Stephanie Sigman</td>\n",
              "    </tr>\n",
              "    <tr>\n",
              "      <th>...</th>\n",
              "      <td>...</td>\n",
              "      <td>...</td>\n",
              "      <td>...</td>\n",
              "    </tr>\n",
              "    <tr>\n",
              "      <th>5040</th>\n",
              "      <td>Eva Boehnke</td>\n",
              "      <td>Maxwell Moody</td>\n",
              "      <td>David Chandler</td>\n",
              "    </tr>\n",
              "    <tr>\n",
              "      <th>5041</th>\n",
              "      <td>Alan Ruck</td>\n",
              "      <td>Daniel Henney</td>\n",
              "      <td>Eliza Coupe</td>\n",
              "    </tr>\n",
              "    <tr>\n",
              "      <th>5042</th>\n",
              "      <td>John August</td>\n",
              "      <td>Brian Herzlinger</td>\n",
              "      <td>Jon Gunn</td>\n",
              "    </tr>\n",
              "  </tbody>\n",
              "</table>\n",
              "<p>5043 rows × 3 columns</p>\n",
              "</div>"
            ],
            "text/plain": [
              "         actor_1_name      actor_2_name      actor_3_name\n",
              "0         CCH Pounder  Joel David Moore         Wes Studi\n",
              "1         Johnny Depp     Orlando Bloom    Jack Davenport\n",
              "2     Christoph Waltz      Rory Kinnear  Stephanie Sigman\n",
              "...               ...               ...               ...\n",
              "5040      Eva Boehnke     Maxwell Moody    David Chandler\n",
              "5041        Alan Ruck     Daniel Henney       Eliza Coupe\n",
              "5042      John August  Brian Herzlinger          Jon Gunn\n",
              "\n",
              "[5043 rows x 3 columns]"
            ]
          },
          "metadata": {},
          "execution_count": 20
        }
      ]
    },
    {
      "cell_type": "markdown",
      "metadata": {
        "id": "C9ZzXqlAgVDB"
      },
      "source": [
        "Another quick point of confusion: Check out the difference between `df['column']` vs `df[['column']]` ( try it out below)"
      ]
    },
    {
      "cell_type": "code",
      "metadata": {
        "tags": [
          "workshop"
        ],
        "id": "njGKqsixgVDB",
        "colab": {
          "base_uri": "https://localhost:8080/"
        },
        "outputId": "e01326bf-e600-4749-bbb2-0743728222b9"
      },
      "source": [
        "movies['imdb_score']"
      ],
      "execution_count": null,
      "outputs": [
        {
          "output_type": "execute_result",
          "data": {
            "text/plain": [
              "0       7.9\n",
              "1       7.1\n",
              "2       6.8\n",
              "       ... \n",
              "5040    6.3\n",
              "5041    6.3\n",
              "5042    6.6\n",
              "Name: imdb_score, Length: 5043, dtype: float64"
            ]
          },
          "metadata": {},
          "execution_count": 24
        }
      ]
    },
    {
      "cell_type": "code",
      "metadata": {
        "tags": [
          "workshop"
        ],
        "id": "s76nDbsdgVDB",
        "colab": {
          "base_uri": "https://localhost:8080/",
          "height": 298
        },
        "outputId": "095af5f6-a348-4f94-c6f5-d978aaa0fda8"
      },
      "source": [
        "movies[['imdb_score']] #this is a dataframe"
      ],
      "execution_count": null,
      "outputs": [
        {
          "output_type": "execute_result",
          "data": {
            "text/html": [
              "<div>\n",
              "<style scoped>\n",
              "    .dataframe tbody tr th:only-of-type {\n",
              "        vertical-align: middle;\n",
              "    }\n",
              "\n",
              "    .dataframe tbody tr th {\n",
              "        vertical-align: top;\n",
              "    }\n",
              "\n",
              "    .dataframe thead th {\n",
              "        text-align: right;\n",
              "    }\n",
              "</style>\n",
              "<table border=\"1\" class=\"dataframe\">\n",
              "  <thead>\n",
              "    <tr style=\"text-align: right;\">\n",
              "      <th></th>\n",
              "      <th>imdb_score</th>\n",
              "    </tr>\n",
              "  </thead>\n",
              "  <tbody>\n",
              "    <tr>\n",
              "      <th>0</th>\n",
              "      <td>7.9</td>\n",
              "    </tr>\n",
              "    <tr>\n",
              "      <th>1</th>\n",
              "      <td>7.1</td>\n",
              "    </tr>\n",
              "    <tr>\n",
              "      <th>2</th>\n",
              "      <td>6.8</td>\n",
              "    </tr>\n",
              "    <tr>\n",
              "      <th>...</th>\n",
              "      <td>...</td>\n",
              "    </tr>\n",
              "    <tr>\n",
              "      <th>5040</th>\n",
              "      <td>6.3</td>\n",
              "    </tr>\n",
              "    <tr>\n",
              "      <th>5041</th>\n",
              "      <td>6.3</td>\n",
              "    </tr>\n",
              "    <tr>\n",
              "      <th>5042</th>\n",
              "      <td>6.6</td>\n",
              "    </tr>\n",
              "  </tbody>\n",
              "</table>\n",
              "<p>5043 rows × 1 columns</p>\n",
              "</div>"
            ],
            "text/plain": [
              "      imdb_score\n",
              "0            7.9\n",
              "1            7.1\n",
              "2            6.8\n",
              "...          ...\n",
              "5040         6.3\n",
              "5041         6.3\n",
              "5042         6.6\n",
              "\n",
              "[5043 rows x 1 columns]"
            ]
          },
          "metadata": {},
          "execution_count": 26
        }
      ]
    },
    {
      "cell_type": "markdown",
      "metadata": {
        "id": "ERmU6qYegVDB"
      },
      "source": [
        "The former creates a *series*, since the input is just one *string*. The latter creates a *dataframe*, since the input is a *list* of columns."
      ]
    },
    {
      "cell_type": "markdown",
      "metadata": {
        "id": "GFPmQfIngVDD"
      },
      "source": [
        "## Filtering Rows With Conditions"
      ]
    },
    {
      "cell_type": "markdown",
      "metadata": {
        "id": "UQEIBZAxgVDD"
      },
      "source": [
        "Another common task is to filter rows based upon some criteria we have. We could:\n",
        "1. Compare floats\n",
        "2. Match strings\n",
        "3. Check against multiple elements"
      ]
    },
    {
      "cell_type": "code",
      "metadata": {
        "scrolled": true,
        "tags": [
          "workshop"
        ],
        "id": "JNmFVSREgVDE",
        "colab": {
          "base_uri": "https://localhost:8080/",
          "height": 509
        },
        "outputId": "6b663ba1-00cf-44a0-aea3-63c0b13a00af"
      },
      "source": [
        "movies[movies.imdb_score > 8]"
      ],
      "execution_count": null,
      "outputs": [
        {
          "output_type": "execute_result",
          "data": {
            "text/html": [
              "<div>\n",
              "<style scoped>\n",
              "    .dataframe tbody tr th:only-of-type {\n",
              "        vertical-align: middle;\n",
              "    }\n",
              "\n",
              "    .dataframe tbody tr th {\n",
              "        vertical-align: top;\n",
              "    }\n",
              "\n",
              "    .dataframe thead th {\n",
              "        text-align: right;\n",
              "    }\n",
              "</style>\n",
              "<table border=\"1\" class=\"dataframe\">\n",
              "  <thead>\n",
              "    <tr style=\"text-align: right;\">\n",
              "      <th></th>\n",
              "      <th>movie_title</th>\n",
              "      <th>imdb_score</th>\n",
              "      <th>content_rating</th>\n",
              "      <th>budget</th>\n",
              "      <th>gross</th>\n",
              "      <th>duration</th>\n",
              "      <th>genres</th>\n",
              "      <th>actor_1_name</th>\n",
              "      <th>actor_2_name</th>\n",
              "      <th>actor_3_name</th>\n",
              "      <th>director_name</th>\n",
              "      <th>language</th>\n",
              "      <th>country</th>\n",
              "      <th>aspect_ratio</th>\n",
              "      <th>title_year</th>\n",
              "    </tr>\n",
              "  </thead>\n",
              "  <tbody>\n",
              "    <tr>\n",
              "      <th>3</th>\n",
              "      <td>The Dark Knight Rises</td>\n",
              "      <td>8.5</td>\n",
              "      <td>PG-13</td>\n",
              "      <td>250000000.0</td>\n",
              "      <td>448130642.0</td>\n",
              "      <td>164.0</td>\n",
              "      <td>Action|Thriller</td>\n",
              "      <td>Tom Hardy</td>\n",
              "      <td>Christian Bale</td>\n",
              "      <td>Joseph Gordon-Levitt</td>\n",
              "      <td>Christopher Nolan</td>\n",
              "      <td>English</td>\n",
              "      <td>USA</td>\n",
              "      <td>2.35</td>\n",
              "      <td>2012.0</td>\n",
              "    </tr>\n",
              "    <tr>\n",
              "      <th>17</th>\n",
              "      <td>The Avengers</td>\n",
              "      <td>8.1</td>\n",
              "      <td>PG-13</td>\n",
              "      <td>220000000.0</td>\n",
              "      <td>623279547.0</td>\n",
              "      <td>173.0</td>\n",
              "      <td>Action|Adventure|Sci-Fi</td>\n",
              "      <td>Chris Hemsworth</td>\n",
              "      <td>Robert Downey Jr.</td>\n",
              "      <td>Scarlett Johansson</td>\n",
              "      <td>Joss Whedon</td>\n",
              "      <td>English</td>\n",
              "      <td>USA</td>\n",
              "      <td>1.85</td>\n",
              "      <td>2012.0</td>\n",
              "    </tr>\n",
              "    <tr>\n",
              "      <th>27</th>\n",
              "      <td>Captain America: Civil War</td>\n",
              "      <td>8.2</td>\n",
              "      <td>PG-13</td>\n",
              "      <td>250000000.0</td>\n",
              "      <td>407197282.0</td>\n",
              "      <td>147.0</td>\n",
              "      <td>Action|Adventure|Sci-Fi</td>\n",
              "      <td>Robert Downey Jr.</td>\n",
              "      <td>Scarlett Johansson</td>\n",
              "      <td>Chris Evans</td>\n",
              "      <td>Anthony Russo</td>\n",
              "      <td>English</td>\n",
              "      <td>USA</td>\n",
              "      <td>2.35</td>\n",
              "      <td>2016.0</td>\n",
              "    </tr>\n",
              "    <tr>\n",
              "      <th>...</th>\n",
              "      <td>...</td>\n",
              "      <td>...</td>\n",
              "      <td>...</td>\n",
              "      <td>...</td>\n",
              "      <td>...</td>\n",
              "      <td>...</td>\n",
              "      <td>...</td>\n",
              "      <td>...</td>\n",
              "      <td>...</td>\n",
              "      <td>...</td>\n",
              "      <td>...</td>\n",
              "      <td>...</td>\n",
              "      <td>...</td>\n",
              "      <td>...</td>\n",
              "      <td>...</td>\n",
              "    </tr>\n",
              "    <tr>\n",
              "      <th>4945</th>\n",
              "      <td>The Brain That Sings</td>\n",
              "      <td>8.2</td>\n",
              "      <td>NaN</td>\n",
              "      <td>125000.0</td>\n",
              "      <td>NaN</td>\n",
              "      <td>62.0</td>\n",
              "      <td>Documentary|Family</td>\n",
              "      <td>NaN</td>\n",
              "      <td>NaN</td>\n",
              "      <td>NaN</td>\n",
              "      <td>Amal Al-Agroobi</td>\n",
              "      <td>Arabic</td>\n",
              "      <td>United Arab Emirates</td>\n",
              "      <td>NaN</td>\n",
              "      <td>2013.0</td>\n",
              "    </tr>\n",
              "    <tr>\n",
              "      <th>4972</th>\n",
              "      <td>Peace, Propaganda &amp; the Promised Land</td>\n",
              "      <td>8.3</td>\n",
              "      <td>NaN</td>\n",
              "      <td>70000.0</td>\n",
              "      <td>NaN</td>\n",
              "      <td>80.0</td>\n",
              "      <td>Documentary</td>\n",
              "      <td>Noam Chomsky</td>\n",
              "      <td>Seth Ackerman</td>\n",
              "      <td>Arik Ascherman</td>\n",
              "      <td>Sut Jhally</td>\n",
              "      <td>English</td>\n",
              "      <td>USA</td>\n",
              "      <td>NaN</td>\n",
              "      <td>2004.0</td>\n",
              "    </tr>\n",
              "    <tr>\n",
              "      <th>5001</th>\n",
              "      <td>The Last Waltz</td>\n",
              "      <td>8.2</td>\n",
              "      <td>PG</td>\n",
              "      <td>NaN</td>\n",
              "      <td>321952.0</td>\n",
              "      <td>117.0</td>\n",
              "      <td>Documentary|Music</td>\n",
              "      <td>Ringo Starr</td>\n",
              "      <td>Levon Helm</td>\n",
              "      <td>Bob Dylan</td>\n",
              "      <td>Martin Scorsese</td>\n",
              "      <td>English</td>\n",
              "      <td>USA</td>\n",
              "      <td>1.85</td>\n",
              "      <td>1978.0</td>\n",
              "    </tr>\n",
              "  </tbody>\n",
              "</table>\n",
              "<p>253 rows × 15 columns</p>\n",
              "</div>"
            ],
            "text/plain": [
              "                                 movie_title  ...  title_year\n",
              "3                     The Dark Knight Rises   ...      2012.0\n",
              "17                             The Avengers   ...      2012.0\n",
              "27               Captain America: Civil War   ...      2016.0\n",
              "...                                      ...  ...         ...\n",
              "4945                   The Brain That Sings   ...      2013.0\n",
              "4972  Peace, Propaganda & the Promised Land   ...      2004.0\n",
              "5001                         The Last Waltz   ...      1978.0\n",
              "\n",
              "[253 rows x 15 columns]"
            ]
          },
          "metadata": {},
          "execution_count": 28
        }
      ]
    },
    {
      "cell_type": "code",
      "metadata": {
        "scrolled": true,
        "tags": [
          "workshop"
        ],
        "id": "T9vWr4CJgVDE",
        "colab": {
          "base_uri": "https://localhost:8080/",
          "height": 474
        },
        "outputId": "107e485e-aec8-4f7d-8b3e-c9e438132549"
      },
      "source": [
        "movies[movies.content_rating == 'G']"
      ],
      "execution_count": null,
      "outputs": [
        {
          "output_type": "execute_result",
          "data": {
            "text/html": [
              "<div>\n",
              "<style scoped>\n",
              "    .dataframe tbody tr th:only-of-type {\n",
              "        vertical-align: middle;\n",
              "    }\n",
              "\n",
              "    .dataframe tbody tr th {\n",
              "        vertical-align: top;\n",
              "    }\n",
              "\n",
              "    .dataframe thead th {\n",
              "        text-align: right;\n",
              "    }\n",
              "</style>\n",
              "<table border=\"1\" class=\"dataframe\">\n",
              "  <thead>\n",
              "    <tr style=\"text-align: right;\">\n",
              "      <th></th>\n",
              "      <th>movie_title</th>\n",
              "      <th>imdb_score</th>\n",
              "      <th>content_rating</th>\n",
              "      <th>budget</th>\n",
              "      <th>gross</th>\n",
              "      <th>duration</th>\n",
              "      <th>genres</th>\n",
              "      <th>actor_1_name</th>\n",
              "      <th>actor_2_name</th>\n",
              "      <th>actor_3_name</th>\n",
              "      <th>director_name</th>\n",
              "      <th>language</th>\n",
              "      <th>country</th>\n",
              "      <th>aspect_ratio</th>\n",
              "      <th>title_year</th>\n",
              "    </tr>\n",
              "  </thead>\n",
              "  <tbody>\n",
              "    <tr>\n",
              "      <th>35</th>\n",
              "      <td>Monsters University</td>\n",
              "      <td>7.3</td>\n",
              "      <td>G</td>\n",
              "      <td>200000000.0</td>\n",
              "      <td>268488329.0</td>\n",
              "      <td>104.0</td>\n",
              "      <td>Adventure|Animation|Comedy|Family|Fantasy</td>\n",
              "      <td>Steve Buscemi</td>\n",
              "      <td>Tyler Labine</td>\n",
              "      <td>Sean Hayes</td>\n",
              "      <td>Dan Scanlon</td>\n",
              "      <td>English</td>\n",
              "      <td>USA</td>\n",
              "      <td>1.85</td>\n",
              "      <td>2013.0</td>\n",
              "    </tr>\n",
              "    <tr>\n",
              "      <th>41</th>\n",
              "      <td>Cars 2</td>\n",
              "      <td>6.3</td>\n",
              "      <td>G</td>\n",
              "      <td>200000000.0</td>\n",
              "      <td>191450875.0</td>\n",
              "      <td>106.0</td>\n",
              "      <td>Adventure|Animation|Comedy|Family|Sport</td>\n",
              "      <td>Joe Mantegna</td>\n",
              "      <td>Thomas Kretschmann</td>\n",
              "      <td>Eddie Izzard</td>\n",
              "      <td>John Lasseter</td>\n",
              "      <td>English</td>\n",
              "      <td>USA</td>\n",
              "      <td>2.35</td>\n",
              "      <td>2011.0</td>\n",
              "    </tr>\n",
              "    <tr>\n",
              "      <th>43</th>\n",
              "      <td>Toy Story 3</td>\n",
              "      <td>8.3</td>\n",
              "      <td>G</td>\n",
              "      <td>200000000.0</td>\n",
              "      <td>414984497.0</td>\n",
              "      <td>103.0</td>\n",
              "      <td>Adventure|Animation|Comedy|Family|Fantasy</td>\n",
              "      <td>Tom Hanks</td>\n",
              "      <td>John Ratzenberger</td>\n",
              "      <td>Don Rickles</td>\n",
              "      <td>Lee Unkrich</td>\n",
              "      <td>English</td>\n",
              "      <td>USA</td>\n",
              "      <td>1.85</td>\n",
              "      <td>2010.0</td>\n",
              "    </tr>\n",
              "    <tr>\n",
              "      <th>...</th>\n",
              "      <td>...</td>\n",
              "      <td>...</td>\n",
              "      <td>...</td>\n",
              "      <td>...</td>\n",
              "      <td>...</td>\n",
              "      <td>...</td>\n",
              "      <td>...</td>\n",
              "      <td>...</td>\n",
              "      <td>...</td>\n",
              "      <td>...</td>\n",
              "      <td>...</td>\n",
              "      <td>...</td>\n",
              "      <td>...</td>\n",
              "      <td>...</td>\n",
              "      <td>...</td>\n",
              "    </tr>\n",
              "    <tr>\n",
              "      <th>4725</th>\n",
              "      <td>Benji</td>\n",
              "      <td>6.1</td>\n",
              "      <td>G</td>\n",
              "      <td>500000.0</td>\n",
              "      <td>39552600.0</td>\n",
              "      <td>86.0</td>\n",
              "      <td>Adventure|Family|Romance</td>\n",
              "      <td>Frances Bavier</td>\n",
              "      <td>Peter Breck</td>\n",
              "      <td>Edgar Buchanan</td>\n",
              "      <td>Joe Camp</td>\n",
              "      <td>English</td>\n",
              "      <td>USA</td>\n",
              "      <td>1.85</td>\n",
              "      <td>1974.0</td>\n",
              "    </tr>\n",
              "    <tr>\n",
              "      <th>4787</th>\n",
              "      <td>Rise of the Entrepreneur: The Search for a Bet...</td>\n",
              "      <td>8.2</td>\n",
              "      <td>G</td>\n",
              "      <td>450000.0</td>\n",
              "      <td>NaN</td>\n",
              "      <td>52.0</td>\n",
              "      <td>Documentary</td>\n",
              "      <td>Bob Proctor</td>\n",
              "      <td>Jack Canfield</td>\n",
              "      <td>Eric Worre</td>\n",
              "      <td>Joe Kenemore</td>\n",
              "      <td>English</td>\n",
              "      <td>USA</td>\n",
              "      <td>NaN</td>\n",
              "      <td>2014.0</td>\n",
              "    </tr>\n",
              "    <tr>\n",
              "      <th>4874</th>\n",
              "      <td>Sunday School Musical</td>\n",
              "      <td>2.5</td>\n",
              "      <td>G</td>\n",
              "      <td>NaN</td>\n",
              "      <td>NaN</td>\n",
              "      <td>93.0</td>\n",
              "      <td>Drama|Musical</td>\n",
              "      <td>Dustin Fitzsimons</td>\n",
              "      <td>Mark Hengst</td>\n",
              "      <td>Debra Lynn Hull</td>\n",
              "      <td>Rachel Goldenberg</td>\n",
              "      <td>English</td>\n",
              "      <td>USA</td>\n",
              "      <td>1.85</td>\n",
              "      <td>2008.0</td>\n",
              "    </tr>\n",
              "  </tbody>\n",
              "</table>\n",
              "<p>112 rows × 15 columns</p>\n",
              "</div>"
            ],
            "text/plain": [
              "                                            movie_title  ...  title_year\n",
              "35                                 Monsters University   ...      2013.0\n",
              "41                                              Cars 2   ...      2011.0\n",
              "43                                         Toy Story 3   ...      2010.0\n",
              "...                                                 ...  ...         ...\n",
              "4725                                             Benji   ...      1974.0\n",
              "4787  Rise of the Entrepreneur: The Search for a Bet...  ...      2014.0\n",
              "4874                             Sunday School Musical   ...      2008.0\n",
              "\n",
              "[112 rows x 15 columns]"
            ]
          },
          "metadata": {},
          "execution_count": 31
        }
      ]
    },
    {
      "cell_type": "markdown",
      "metadata": {
        "id": "MCgl46gegVDE"
      },
      "source": [
        "What if we wanted to find movies that were either `G`, `PG`, or `PG-13`? \n",
        "We'd have to type out something pretty annoying like: \n",
        "```python\n",
        "movies[(movies.content_rating == 'G') | (movies.content_rating == 'PG') | (movies.content_rating == 'PG-13')]\n",
        "```\n",
        "\n",
        "<br>Instead, we'll use the `.isin()` operator to match against a group. Remember, `.isin()` accepts a `list` only"
      ]
    },
    {
      "cell_type": "code",
      "metadata": {
        "scrolled": true,
        "tags": [
          "workshop"
        ],
        "id": "Rpa1UeDMgVDE",
        "colab": {
          "base_uri": "https://localhost:8080/",
          "height": 457
        },
        "outputId": "a7952c3e-c135-4a05-e6cf-db5839dcbe6e"
      },
      "source": [
        "movies[movies.content_rating.isin(['G', 'PG', 'PG-13'])]"
      ],
      "execution_count": null,
      "outputs": [
        {
          "output_type": "execute_result",
          "data": {
            "text/html": [
              "<div>\n",
              "<style scoped>\n",
              "    .dataframe tbody tr th:only-of-type {\n",
              "        vertical-align: middle;\n",
              "    }\n",
              "\n",
              "    .dataframe tbody tr th {\n",
              "        vertical-align: top;\n",
              "    }\n",
              "\n",
              "    .dataframe thead th {\n",
              "        text-align: right;\n",
              "    }\n",
              "</style>\n",
              "<table border=\"1\" class=\"dataframe\">\n",
              "  <thead>\n",
              "    <tr style=\"text-align: right;\">\n",
              "      <th></th>\n",
              "      <th>movie_title</th>\n",
              "      <th>imdb_score</th>\n",
              "      <th>content_rating</th>\n",
              "      <th>budget</th>\n",
              "      <th>gross</th>\n",
              "      <th>duration</th>\n",
              "      <th>genres</th>\n",
              "      <th>actor_1_name</th>\n",
              "      <th>actor_2_name</th>\n",
              "      <th>actor_3_name</th>\n",
              "      <th>director_name</th>\n",
              "      <th>language</th>\n",
              "      <th>country</th>\n",
              "      <th>aspect_ratio</th>\n",
              "      <th>title_year</th>\n",
              "    </tr>\n",
              "  </thead>\n",
              "  <tbody>\n",
              "    <tr>\n",
              "      <th>0</th>\n",
              "      <td>Avatar</td>\n",
              "      <td>7.9</td>\n",
              "      <td>PG-13</td>\n",
              "      <td>237000000.0</td>\n",
              "      <td>760505847.0</td>\n",
              "      <td>178.0</td>\n",
              "      <td>Action|Adventure|Fantasy|Sci-Fi</td>\n",
              "      <td>CCH Pounder</td>\n",
              "      <td>Joel David Moore</td>\n",
              "      <td>Wes Studi</td>\n",
              "      <td>James Cameron</td>\n",
              "      <td>English</td>\n",
              "      <td>USA</td>\n",
              "      <td>1.78</td>\n",
              "      <td>2009.0</td>\n",
              "    </tr>\n",
              "    <tr>\n",
              "      <th>1</th>\n",
              "      <td>Pirates of the Caribbean: At World's End</td>\n",
              "      <td>7.1</td>\n",
              "      <td>PG-13</td>\n",
              "      <td>300000000.0</td>\n",
              "      <td>309404152.0</td>\n",
              "      <td>169.0</td>\n",
              "      <td>Action|Adventure|Fantasy</td>\n",
              "      <td>Johnny Depp</td>\n",
              "      <td>Orlando Bloom</td>\n",
              "      <td>Jack Davenport</td>\n",
              "      <td>Gore Verbinski</td>\n",
              "      <td>English</td>\n",
              "      <td>USA</td>\n",
              "      <td>2.35</td>\n",
              "      <td>2007.0</td>\n",
              "    </tr>\n",
              "    <tr>\n",
              "      <th>2</th>\n",
              "      <td>Spectre</td>\n",
              "      <td>6.8</td>\n",
              "      <td>PG-13</td>\n",
              "      <td>245000000.0</td>\n",
              "      <td>200074175.0</td>\n",
              "      <td>148.0</td>\n",
              "      <td>Action|Adventure|Thriller</td>\n",
              "      <td>Christoph Waltz</td>\n",
              "      <td>Rory Kinnear</td>\n",
              "      <td>Stephanie Sigman</td>\n",
              "      <td>Sam Mendes</td>\n",
              "      <td>English</td>\n",
              "      <td>UK</td>\n",
              "      <td>2.35</td>\n",
              "      <td>2015.0</td>\n",
              "    </tr>\n",
              "    <tr>\n",
              "      <th>...</th>\n",
              "      <td>...</td>\n",
              "      <td>...</td>\n",
              "      <td>...</td>\n",
              "      <td>...</td>\n",
              "      <td>...</td>\n",
              "      <td>...</td>\n",
              "      <td>...</td>\n",
              "      <td>...</td>\n",
              "      <td>...</td>\n",
              "      <td>...</td>\n",
              "      <td>...</td>\n",
              "      <td>...</td>\n",
              "      <td>...</td>\n",
              "      <td>...</td>\n",
              "      <td>...</td>\n",
              "    </tr>\n",
              "    <tr>\n",
              "      <th>5036</th>\n",
              "      <td>The Mongol King</td>\n",
              "      <td>7.8</td>\n",
              "      <td>PG-13</td>\n",
              "      <td>3250.0</td>\n",
              "      <td>NaN</td>\n",
              "      <td>84.0</td>\n",
              "      <td>Crime|Drama</td>\n",
              "      <td>Richard Jewell</td>\n",
              "      <td>John Considine</td>\n",
              "      <td>Sara Stepnicka</td>\n",
              "      <td>Anthony Vallone</td>\n",
              "      <td>English</td>\n",
              "      <td>USA</td>\n",
              "      <td>NaN</td>\n",
              "      <td>2005.0</td>\n",
              "    </tr>\n",
              "    <tr>\n",
              "      <th>5041</th>\n",
              "      <td>Shanghai Calling</td>\n",
              "      <td>6.3</td>\n",
              "      <td>PG-13</td>\n",
              "      <td>NaN</td>\n",
              "      <td>10443.0</td>\n",
              "      <td>100.0</td>\n",
              "      <td>Comedy|Drama|Romance</td>\n",
              "      <td>Alan Ruck</td>\n",
              "      <td>Daniel Henney</td>\n",
              "      <td>Eliza Coupe</td>\n",
              "      <td>Daniel Hsia</td>\n",
              "      <td>English</td>\n",
              "      <td>USA</td>\n",
              "      <td>2.35</td>\n",
              "      <td>2012.0</td>\n",
              "    </tr>\n",
              "    <tr>\n",
              "      <th>5042</th>\n",
              "      <td>My Date with Drew</td>\n",
              "      <td>6.6</td>\n",
              "      <td>PG</td>\n",
              "      <td>1100.0</td>\n",
              "      <td>85222.0</td>\n",
              "      <td>90.0</td>\n",
              "      <td>Documentary</td>\n",
              "      <td>John August</td>\n",
              "      <td>Brian Herzlinger</td>\n",
              "      <td>Jon Gunn</td>\n",
              "      <td>Jon Gunn</td>\n",
              "      <td>English</td>\n",
              "      <td>USA</td>\n",
              "      <td>1.85</td>\n",
              "      <td>2004.0</td>\n",
              "    </tr>\n",
              "  </tbody>\n",
              "</table>\n",
              "<p>2274 rows × 15 columns</p>\n",
              "</div>"
            ],
            "text/plain": [
              "                                    movie_title  ...  title_year\n",
              "0                                       Avatar   ...      2009.0\n",
              "1     Pirates of the Caribbean: At World's End   ...      2007.0\n",
              "2                                      Spectre   ...      2015.0\n",
              "...                                         ...  ...         ...\n",
              "5036                           The Mongol King   ...      2005.0\n",
              "5041                          Shanghai Calling   ...      2012.0\n",
              "5042                         My Date with Drew   ...      2004.0\n",
              "\n",
              "[2274 rows x 15 columns]"
            ]
          },
          "metadata": {},
          "execution_count": 33
        }
      ]
    },
    {
      "cell_type": "markdown",
      "metadata": {
        "id": "fmwwgl7rgVDE"
      },
      "source": [
        "### Masking"
      ]
    },
    {
      "cell_type": "markdown",
      "metadata": {
        "id": "b2UhIGrDgVDE"
      },
      "source": [
        "What's going on under the hood? When we say something like this,\n",
        "```python \n",
        "movies.content_rating == 'G'\n",
        "```\n",
        "We're actually asking Pandas to check that **for each** row in the series, if the given statement is True or False.\n"
      ]
    },
    {
      "cell_type": "code",
      "metadata": {
        "scrolled": true,
        "tags": [
          "workshop"
        ],
        "id": "I7BjTOq2gVDE",
        "colab": {
          "base_uri": "https://localhost:8080/"
        },
        "outputId": "de908206-28bc-4afa-f3ca-2ac1799b0391"
      },
      "source": [
        "movies.content_rating == 'G' #for every row in this series, checking if it equals G"
      ],
      "execution_count": null,
      "outputs": [
        {
          "output_type": "execute_result",
          "data": {
            "text/plain": [
              "0       False\n",
              "1       False\n",
              "2       False\n",
              "        ...  \n",
              "5040    False\n",
              "5041    False\n",
              "5042    False\n",
              "Name: content_rating, Length: 5043, dtype: bool"
            ]
          },
          "metadata": {},
          "execution_count": 35
        }
      ]
    },
    {
      "cell_type": "code",
      "metadata": {
        "scrolled": true,
        "tags": [
          "workshop"
        ],
        "id": "10XA_CxtgVDF",
        "colab": {
          "base_uri": "https://localhost:8080/",
          "height": 474
        },
        "outputId": "8a08db12-fcc3-4967-dbcb-d6d854c2afdb"
      },
      "source": [
        "movies[movies.content_rating == 'G']"
      ],
      "execution_count": null,
      "outputs": [
        {
          "output_type": "execute_result",
          "data": {
            "text/html": [
              "<div>\n",
              "<style scoped>\n",
              "    .dataframe tbody tr th:only-of-type {\n",
              "        vertical-align: middle;\n",
              "    }\n",
              "\n",
              "    .dataframe tbody tr th {\n",
              "        vertical-align: top;\n",
              "    }\n",
              "\n",
              "    .dataframe thead th {\n",
              "        text-align: right;\n",
              "    }\n",
              "</style>\n",
              "<table border=\"1\" class=\"dataframe\">\n",
              "  <thead>\n",
              "    <tr style=\"text-align: right;\">\n",
              "      <th></th>\n",
              "      <th>movie_title</th>\n",
              "      <th>imdb_score</th>\n",
              "      <th>content_rating</th>\n",
              "      <th>budget</th>\n",
              "      <th>gross</th>\n",
              "      <th>duration</th>\n",
              "      <th>genres</th>\n",
              "      <th>actor_1_name</th>\n",
              "      <th>actor_2_name</th>\n",
              "      <th>actor_3_name</th>\n",
              "      <th>director_name</th>\n",
              "      <th>language</th>\n",
              "      <th>country</th>\n",
              "      <th>aspect_ratio</th>\n",
              "      <th>title_year</th>\n",
              "    </tr>\n",
              "  </thead>\n",
              "  <tbody>\n",
              "    <tr>\n",
              "      <th>35</th>\n",
              "      <td>Monsters University</td>\n",
              "      <td>7.3</td>\n",
              "      <td>G</td>\n",
              "      <td>200000000.0</td>\n",
              "      <td>268488329.0</td>\n",
              "      <td>104.0</td>\n",
              "      <td>Adventure|Animation|Comedy|Family|Fantasy</td>\n",
              "      <td>Steve Buscemi</td>\n",
              "      <td>Tyler Labine</td>\n",
              "      <td>Sean Hayes</td>\n",
              "      <td>Dan Scanlon</td>\n",
              "      <td>English</td>\n",
              "      <td>USA</td>\n",
              "      <td>1.85</td>\n",
              "      <td>2013.0</td>\n",
              "    </tr>\n",
              "    <tr>\n",
              "      <th>41</th>\n",
              "      <td>Cars 2</td>\n",
              "      <td>6.3</td>\n",
              "      <td>G</td>\n",
              "      <td>200000000.0</td>\n",
              "      <td>191450875.0</td>\n",
              "      <td>106.0</td>\n",
              "      <td>Adventure|Animation|Comedy|Family|Sport</td>\n",
              "      <td>Joe Mantegna</td>\n",
              "      <td>Thomas Kretschmann</td>\n",
              "      <td>Eddie Izzard</td>\n",
              "      <td>John Lasseter</td>\n",
              "      <td>English</td>\n",
              "      <td>USA</td>\n",
              "      <td>2.35</td>\n",
              "      <td>2011.0</td>\n",
              "    </tr>\n",
              "    <tr>\n",
              "      <th>43</th>\n",
              "      <td>Toy Story 3</td>\n",
              "      <td>8.3</td>\n",
              "      <td>G</td>\n",
              "      <td>200000000.0</td>\n",
              "      <td>414984497.0</td>\n",
              "      <td>103.0</td>\n",
              "      <td>Adventure|Animation|Comedy|Family|Fantasy</td>\n",
              "      <td>Tom Hanks</td>\n",
              "      <td>John Ratzenberger</td>\n",
              "      <td>Don Rickles</td>\n",
              "      <td>Lee Unkrich</td>\n",
              "      <td>English</td>\n",
              "      <td>USA</td>\n",
              "      <td>1.85</td>\n",
              "      <td>2010.0</td>\n",
              "    </tr>\n",
              "    <tr>\n",
              "      <th>...</th>\n",
              "      <td>...</td>\n",
              "      <td>...</td>\n",
              "      <td>...</td>\n",
              "      <td>...</td>\n",
              "      <td>...</td>\n",
              "      <td>...</td>\n",
              "      <td>...</td>\n",
              "      <td>...</td>\n",
              "      <td>...</td>\n",
              "      <td>...</td>\n",
              "      <td>...</td>\n",
              "      <td>...</td>\n",
              "      <td>...</td>\n",
              "      <td>...</td>\n",
              "      <td>...</td>\n",
              "    </tr>\n",
              "    <tr>\n",
              "      <th>4725</th>\n",
              "      <td>Benji</td>\n",
              "      <td>6.1</td>\n",
              "      <td>G</td>\n",
              "      <td>500000.0</td>\n",
              "      <td>39552600.0</td>\n",
              "      <td>86.0</td>\n",
              "      <td>Adventure|Family|Romance</td>\n",
              "      <td>Frances Bavier</td>\n",
              "      <td>Peter Breck</td>\n",
              "      <td>Edgar Buchanan</td>\n",
              "      <td>Joe Camp</td>\n",
              "      <td>English</td>\n",
              "      <td>USA</td>\n",
              "      <td>1.85</td>\n",
              "      <td>1974.0</td>\n",
              "    </tr>\n",
              "    <tr>\n",
              "      <th>4787</th>\n",
              "      <td>Rise of the Entrepreneur: The Search for a Bet...</td>\n",
              "      <td>8.2</td>\n",
              "      <td>G</td>\n",
              "      <td>450000.0</td>\n",
              "      <td>NaN</td>\n",
              "      <td>52.0</td>\n",
              "      <td>Documentary</td>\n",
              "      <td>Bob Proctor</td>\n",
              "      <td>Jack Canfield</td>\n",
              "      <td>Eric Worre</td>\n",
              "      <td>Joe Kenemore</td>\n",
              "      <td>English</td>\n",
              "      <td>USA</td>\n",
              "      <td>NaN</td>\n",
              "      <td>2014.0</td>\n",
              "    </tr>\n",
              "    <tr>\n",
              "      <th>4874</th>\n",
              "      <td>Sunday School Musical</td>\n",
              "      <td>2.5</td>\n",
              "      <td>G</td>\n",
              "      <td>NaN</td>\n",
              "      <td>NaN</td>\n",
              "      <td>93.0</td>\n",
              "      <td>Drama|Musical</td>\n",
              "      <td>Dustin Fitzsimons</td>\n",
              "      <td>Mark Hengst</td>\n",
              "      <td>Debra Lynn Hull</td>\n",
              "      <td>Rachel Goldenberg</td>\n",
              "      <td>English</td>\n",
              "      <td>USA</td>\n",
              "      <td>1.85</td>\n",
              "      <td>2008.0</td>\n",
              "    </tr>\n",
              "  </tbody>\n",
              "</table>\n",
              "<p>112 rows × 15 columns</p>\n",
              "</div>"
            ],
            "text/plain": [
              "                                            movie_title  ...  title_year\n",
              "35                                 Monsters University   ...      2013.0\n",
              "41                                              Cars 2   ...      2011.0\n",
              "43                                         Toy Story 3   ...      2010.0\n",
              "...                                                 ...  ...         ...\n",
              "4725                                             Benji   ...      1974.0\n",
              "4787  Rise of the Entrepreneur: The Search for a Bet...  ...      2014.0\n",
              "4874                             Sunday School Musical   ...      2008.0\n",
              "\n",
              "[112 rows x 15 columns]"
            ]
          },
          "metadata": {},
          "execution_count": 36
        }
      ]
    },
    {
      "cell_type": "markdown",
      "metadata": {
        "id": "yIH28O2igVDF"
      },
      "source": [
        "## Basic functions"
      ]
    },
    {
      "cell_type": "markdown",
      "metadata": {
        "id": "sk4X7fpNgVDF"
      },
      "source": [
        "There's a couple super helpful functions that help us work with our data.\n",
        "\n",
        "For sorting, we can use `.sort_values(by= )`, and pass in either a single string, or multiple strings in a list.\n",
        "<br>To flip the default order, change the `ascending= ` parameter to `False`"
      ]
    },
    {
      "cell_type": "code",
      "metadata": {
        "id": "S2mYAr2RgVDF",
        "colab": {
          "base_uri": "https://localhost:8080/",
          "height": 474
        },
        "outputId": "d73aea2c-4f6e-4309-9eec-3644e926294f"
      },
      "source": [
        "movies.sort_values(by= 'imdb_score', ascending=False)\n",
        "movies.sort_values(by=['imdb_score', 'duration'], ascending = False) #further sorts if there is a tie breaker"
      ],
      "execution_count": null,
      "outputs": [
        {
          "output_type": "execute_result",
          "data": {
            "text/html": [
              "<div>\n",
              "<style scoped>\n",
              "    .dataframe tbody tr th:only-of-type {\n",
              "        vertical-align: middle;\n",
              "    }\n",
              "\n",
              "    .dataframe tbody tr th {\n",
              "        vertical-align: top;\n",
              "    }\n",
              "\n",
              "    .dataframe thead th {\n",
              "        text-align: right;\n",
              "    }\n",
              "</style>\n",
              "<table border=\"1\" class=\"dataframe\">\n",
              "  <thead>\n",
              "    <tr style=\"text-align: right;\">\n",
              "      <th></th>\n",
              "      <th>movie_title</th>\n",
              "      <th>imdb_score</th>\n",
              "      <th>content_rating</th>\n",
              "      <th>budget</th>\n",
              "      <th>gross</th>\n",
              "      <th>duration</th>\n",
              "      <th>genres</th>\n",
              "      <th>actor_1_name</th>\n",
              "      <th>actor_2_name</th>\n",
              "      <th>actor_3_name</th>\n",
              "      <th>director_name</th>\n",
              "      <th>language</th>\n",
              "      <th>country</th>\n",
              "      <th>aspect_ratio</th>\n",
              "      <th>title_year</th>\n",
              "    </tr>\n",
              "  </thead>\n",
              "  <tbody>\n",
              "    <tr>\n",
              "      <th>2765</th>\n",
              "      <td>Towering Inferno</td>\n",
              "      <td>9.5</td>\n",
              "      <td>NaN</td>\n",
              "      <td>NaN</td>\n",
              "      <td>NaN</td>\n",
              "      <td>65.0</td>\n",
              "      <td>Comedy</td>\n",
              "      <td>Martin Short</td>\n",
              "      <td>Andrea Martin</td>\n",
              "      <td>Joe Flaherty</td>\n",
              "      <td>John Blanchard</td>\n",
              "      <td>English</td>\n",
              "      <td>Canada</td>\n",
              "      <td>1.33</td>\n",
              "      <td>NaN</td>\n",
              "    </tr>\n",
              "    <tr>\n",
              "      <th>1937</th>\n",
              "      <td>The Shawshank Redemption</td>\n",
              "      <td>9.3</td>\n",
              "      <td>R</td>\n",
              "      <td>25000000.0</td>\n",
              "      <td>28341469.0</td>\n",
              "      <td>142.0</td>\n",
              "      <td>Crime|Drama</td>\n",
              "      <td>Morgan Freeman</td>\n",
              "      <td>Jeffrey DeMunn</td>\n",
              "      <td>Bob Gunton</td>\n",
              "      <td>Frank Darabont</td>\n",
              "      <td>English</td>\n",
              "      <td>USA</td>\n",
              "      <td>1.85</td>\n",
              "      <td>1994.0</td>\n",
              "    </tr>\n",
              "    <tr>\n",
              "      <th>3466</th>\n",
              "      <td>The Godfather</td>\n",
              "      <td>9.2</td>\n",
              "      <td>R</td>\n",
              "      <td>6000000.0</td>\n",
              "      <td>134821952.0</td>\n",
              "      <td>175.0</td>\n",
              "      <td>Crime|Drama</td>\n",
              "      <td>Al Pacino</td>\n",
              "      <td>Marlon Brando</td>\n",
              "      <td>Robert Duvall</td>\n",
              "      <td>Francis Ford Coppola</td>\n",
              "      <td>English</td>\n",
              "      <td>USA</td>\n",
              "      <td>1.85</td>\n",
              "      <td>1972.0</td>\n",
              "    </tr>\n",
              "    <tr>\n",
              "      <th>...</th>\n",
              "      <td>...</td>\n",
              "      <td>...</td>\n",
              "      <td>...</td>\n",
              "      <td>...</td>\n",
              "      <td>...</td>\n",
              "      <td>...</td>\n",
              "      <td>...</td>\n",
              "      <td>...</td>\n",
              "      <td>...</td>\n",
              "      <td>...</td>\n",
              "      <td>...</td>\n",
              "      <td>...</td>\n",
              "      <td>...</td>\n",
              "      <td>...</td>\n",
              "      <td>...</td>\n",
              "    </tr>\n",
              "    <tr>\n",
              "      <th>4605</th>\n",
              "      <td>The Helix... Loaded</td>\n",
              "      <td>1.9</td>\n",
              "      <td>R</td>\n",
              "      <td>1000000.0</td>\n",
              "      <td>NaN</td>\n",
              "      <td>97.0</td>\n",
              "      <td>Action|Adventure|Comedy|Fantasy|Sci-Fi</td>\n",
              "      <td>Scott Levy</td>\n",
              "      <td>Vanilla Ice</td>\n",
              "      <td>Jennifer Sky</td>\n",
              "      <td>A. Raven Cruz</td>\n",
              "      <td>English</td>\n",
              "      <td>USA</td>\n",
              "      <td>1.78</td>\n",
              "      <td>2005.0</td>\n",
              "    </tr>\n",
              "    <tr>\n",
              "      <th>1136</th>\n",
              "      <td>Foodfight!</td>\n",
              "      <td>1.7</td>\n",
              "      <td>PG</td>\n",
              "      <td>65000000.0</td>\n",
              "      <td>NaN</td>\n",
              "      <td>91.0</td>\n",
              "      <td>Action|Animation|Comedy|Family|Fantasy</td>\n",
              "      <td>Jerry Stiller</td>\n",
              "      <td>Larry Miller</td>\n",
              "      <td>Harvey Fierstein</td>\n",
              "      <td>Lawrence Kasanoff</td>\n",
              "      <td>English</td>\n",
              "      <td>USA</td>\n",
              "      <td>NaN</td>\n",
              "      <td>2012.0</td>\n",
              "    </tr>\n",
              "    <tr>\n",
              "      <th>2834</th>\n",
              "      <td>Justin Bieber: Never Say Never</td>\n",
              "      <td>1.6</td>\n",
              "      <td>G</td>\n",
              "      <td>13000000.0</td>\n",
              "      <td>73000942.0</td>\n",
              "      <td>115.0</td>\n",
              "      <td>Documentary|Music</td>\n",
              "      <td>Usher Raymond</td>\n",
              "      <td>Sean Kingston</td>\n",
              "      <td>Boys II Men</td>\n",
              "      <td>Jon M. Chu</td>\n",
              "      <td>English</td>\n",
              "      <td>USA</td>\n",
              "      <td>1.85</td>\n",
              "      <td>2011.0</td>\n",
              "    </tr>\n",
              "  </tbody>\n",
              "</table>\n",
              "<p>5043 rows × 15 columns</p>\n",
              "</div>"
            ],
            "text/plain": [
              "                          movie_title  imdb_score  ... aspect_ratio  title_year\n",
              "2765    Towering Inferno                      9.5  ...         1.33         NaN\n",
              "1937        The Shawshank Redemption          9.3  ...         1.85      1994.0\n",
              "3466                   The Godfather          9.2  ...         1.85      1972.0\n",
              "...                               ...         ...  ...          ...         ...\n",
              "4605             The Helix... Loaded          1.9  ...         1.78      2005.0\n",
              "1136                      Foodfight!          1.7  ...          NaN      2012.0\n",
              "2834  Justin Bieber: Never Say Never          1.6  ...         1.85      2011.0\n",
              "\n",
              "[5043 rows x 15 columns]"
            ]
          },
          "metadata": {},
          "execution_count": 37
        }
      ]
    },
    {
      "cell_type": "markdown",
      "metadata": {
        "id": "m9K8hMhrgVDF"
      },
      "source": [
        "We could also use the `.value_counts()` function to could how many observations there are for each category.\n",
        "<br>If we wanted relative frequencies (i.e. proportions) instead of absolute counts, we could change the `normalize=` parameter to `True`"
      ]
    },
    {
      "cell_type": "code",
      "metadata": {
        "id": "B5ufDVkxgVDF",
        "colab": {
          "base_uri": "https://localhost:8080/"
        },
        "outputId": "bfdafdb6-07d8-419f-b477-823bb70afded"
      },
      "source": [
        "movies.country.value_counts(normalize=True)\n",
        "movies.country.value_counts() / movies.shape[0] #idk\n"
      ],
      "execution_count": null,
      "outputs": [
        {
          "output_type": "execute_result",
          "data": {
            "text/plain": [
              "USA                   0.755657\n",
              "UK                    0.088924\n",
              "France                0.030568\n",
              "                        ...   \n",
              "Dominican Republic    0.000198\n",
              "Kyrgyzstan            0.000198\n",
              "Slovakia              0.000198\n",
              "Name: country, Length: 65, dtype: float64"
            ]
          },
          "metadata": {},
          "execution_count": 41
        }
      ]
    },
    {
      "cell_type": "markdown",
      "metadata": {
        "id": "mVbEsQ_ngVDF"
      },
      "source": [
        "Finally, we can take basic summary measures, like the `.mean()` or `.sum()` of a column."
      ]
    },
    {
      "cell_type": "code",
      "metadata": {
        "id": "aZvCaiuwgVDF",
        "colab": {
          "base_uri": "https://localhost:8080/"
        },
        "outputId": "a45a0e27-5957-4e03-f6d8-046c103b0255"
      },
      "source": [
        "movies.budget.mean()\n",
        "movies.budget.median()\n",
        "movies.budget.max() #etc"
      ],
      "execution_count": null,
      "outputs": [
        {
          "output_type": "execute_result",
          "data": {
            "text/plain": [
              "12215500000.0"
            ]
          },
          "metadata": {},
          "execution_count": 43
        }
      ]
    },
    {
      "cell_type": "markdown",
      "metadata": {
        "id": "U8tM9MCvgVDF"
      },
      "source": [
        "## Chaining"
      ]
    },
    {
      "cell_type": "markdown",
      "metadata": {
        "id": "dsqqMXdogVDF"
      },
      "source": [
        "Chaining helps make our code more concise and readable.\n",
        "\n",
        "For example, if we wanted to combine some subsets with functions:"
      ]
    },
    {
      "cell_type": "code",
      "metadata": {
        "id": "pWUV0vhdgVDG",
        "colab": {
          "base_uri": "https://localhost:8080/",
          "height": 382
        },
        "outputId": "31b3abdd-992b-4eb9-c44c-14fbf1800c1d"
      },
      "source": [
        "df1 = movies[movies.imdb_score > 8.5]\n",
        "df2 = df1[df1.content_rating == 'PG']\n",
        "df3 = df2.sort_values(by='duration',ascending=False)\n",
        "df3.head() #watch Spirited Away lol"
      ],
      "execution_count": null,
      "outputs": [
        {
          "output_type": "execute_result",
          "data": {
            "text/html": [
              "<div>\n",
              "<style scoped>\n",
              "    .dataframe tbody tr th:only-of-type {\n",
              "        vertical-align: middle;\n",
              "    }\n",
              "\n",
              "    .dataframe tbody tr th {\n",
              "        vertical-align: top;\n",
              "    }\n",
              "\n",
              "    .dataframe thead th {\n",
              "        text-align: right;\n",
              "    }\n",
              "</style>\n",
              "<table border=\"1\" class=\"dataframe\">\n",
              "  <thead>\n",
              "    <tr style=\"text-align: right;\">\n",
              "      <th></th>\n",
              "      <th>movie_title</th>\n",
              "      <th>imdb_score</th>\n",
              "      <th>content_rating</th>\n",
              "      <th>budget</th>\n",
              "      <th>gross</th>\n",
              "      <th>duration</th>\n",
              "      <th>genres</th>\n",
              "      <th>actor_1_name</th>\n",
              "      <th>actor_2_name</th>\n",
              "      <th>actor_3_name</th>\n",
              "      <th>director_name</th>\n",
              "      <th>language</th>\n",
              "      <th>country</th>\n",
              "      <th>aspect_ratio</th>\n",
              "      <th>title_year</th>\n",
              "    </tr>\n",
              "  </thead>\n",
              "  <tbody>\n",
              "    <tr>\n",
              "      <th>2051</th>\n",
              "      <td>Star Wars: Episode V - The Empire Strikes Back</td>\n",
              "      <td>8.8</td>\n",
              "      <td>PG</td>\n",
              "      <td>18000000.0</td>\n",
              "      <td>290158751.0</td>\n",
              "      <td>127.0</td>\n",
              "      <td>Action|Adventure|Fantasy|Sci-Fi</td>\n",
              "      <td>Harrison Ford</td>\n",
              "      <td>Kenny Baker</td>\n",
              "      <td>Anthony Daniels</td>\n",
              "      <td>Irvin Kershner</td>\n",
              "      <td>English</td>\n",
              "      <td>USA</td>\n",
              "      <td>2.35</td>\n",
              "      <td>1980.0</td>\n",
              "    </tr>\n",
              "    <tr>\n",
              "      <th>2373</th>\n",
              "      <td>Spirited Away</td>\n",
              "      <td>8.6</td>\n",
              "      <td>PG</td>\n",
              "      <td>19000000.0</td>\n",
              "      <td>10049886.0</td>\n",
              "      <td>125.0</td>\n",
              "      <td>Adventure|Animation|Family|Fantasy</td>\n",
              "      <td>Bunta Sugawara</td>\n",
              "      <td>Ryûnosuke Kamiki</td>\n",
              "      <td>Miyu Irino</td>\n",
              "      <td>Hayao Miyazaki</td>\n",
              "      <td>Japanese</td>\n",
              "      <td>Japan</td>\n",
              "      <td>1.85</td>\n",
              "      <td>2001.0</td>\n",
              "    </tr>\n",
              "    <tr>\n",
              "      <th>3024</th>\n",
              "      <td>Star Wars: Episode IV - A New Hope</td>\n",
              "      <td>8.7</td>\n",
              "      <td>PG</td>\n",
              "      <td>11000000.0</td>\n",
              "      <td>460935665.0</td>\n",
              "      <td>125.0</td>\n",
              "      <td>Action|Adventure|Fantasy|Sci-Fi</td>\n",
              "      <td>Harrison Ford</td>\n",
              "      <td>Peter Cushing</td>\n",
              "      <td>Kenny Baker</td>\n",
              "      <td>George Lucas</td>\n",
              "      <td>English</td>\n",
              "      <td>USA</td>\n",
              "      <td>2.35</td>\n",
              "      <td>1977.0</td>\n",
              "    </tr>\n",
              "    <tr>\n",
              "      <th>4049</th>\n",
              "      <td>It's a Wonderful Life</td>\n",
              "      <td>8.6</td>\n",
              "      <td>PG</td>\n",
              "      <td>3180000.0</td>\n",
              "      <td>NaN</td>\n",
              "      <td>118.0</td>\n",
              "      <td>Drama|Family|Fantasy|Romance</td>\n",
              "      <td>Donna Reed</td>\n",
              "      <td>Lionel Barrymore</td>\n",
              "      <td>Thomas Mitchell</td>\n",
              "      <td>Frank Capra</td>\n",
              "      <td>English</td>\n",
              "      <td>USA</td>\n",
              "      <td>1.37</td>\n",
              "      <td>1946.0</td>\n",
              "    </tr>\n",
              "    <tr>\n",
              "      <th>4526</th>\n",
              "      <td>Casablanca</td>\n",
              "      <td>8.6</td>\n",
              "      <td>PG</td>\n",
              "      <td>950000.0</td>\n",
              "      <td>NaN</td>\n",
              "      <td>82.0</td>\n",
              "      <td>Drama|Romance|War</td>\n",
              "      <td>Humphrey Bogart</td>\n",
              "      <td>Claude Rains</td>\n",
              "      <td>Conrad Veidt</td>\n",
              "      <td>Michael Curtiz</td>\n",
              "      <td>English</td>\n",
              "      <td>USA</td>\n",
              "      <td>1.37</td>\n",
              "      <td>1942.0</td>\n",
              "    </tr>\n",
              "  </tbody>\n",
              "</table>\n",
              "</div>"
            ],
            "text/plain": [
              "                                          movie_title  ...  title_year\n",
              "2051  Star Wars: Episode V - The Empire Strikes Back   ...      1980.0\n",
              "2373                                   Spirited Away   ...      2001.0\n",
              "3024              Star Wars: Episode IV - A New Hope   ...      1977.0\n",
              "4049                           It's a Wonderful Life   ...      1946.0\n",
              "4526                                      Casablanca   ...      1942.0\n",
              "\n",
              "[5 rows x 15 columns]"
            ]
          },
          "metadata": {},
          "execution_count": 45
        }
      ]
    },
    {
      "cell_type": "markdown",
      "metadata": {
        "id": "h4ndmKJKgVDG"
      },
      "source": [
        "We could instead write the above as:"
      ]
    },
    {
      "cell_type": "code",
      "metadata": {
        "tags": [
          "workshop"
        ],
        "id": "DMwBbCmpgVDG",
        "colab": {
          "base_uri": "https://localhost:8080/",
          "height": 382
        },
        "outputId": "ea3ff66e-c076-4d85-b168-583076134379"
      },
      "source": [
        "movies[movies.imdb_score > 8.5].loc[movies.content_rating == 'PG'].sort_values(by='duration', ascending=False).head() #python wants .loc to show 2 filters"
      ],
      "execution_count": null,
      "outputs": [
        {
          "output_type": "execute_result",
          "data": {
            "text/html": [
              "<div>\n",
              "<style scoped>\n",
              "    .dataframe tbody tr th:only-of-type {\n",
              "        vertical-align: middle;\n",
              "    }\n",
              "\n",
              "    .dataframe tbody tr th {\n",
              "        vertical-align: top;\n",
              "    }\n",
              "\n",
              "    .dataframe thead th {\n",
              "        text-align: right;\n",
              "    }\n",
              "</style>\n",
              "<table border=\"1\" class=\"dataframe\">\n",
              "  <thead>\n",
              "    <tr style=\"text-align: right;\">\n",
              "      <th></th>\n",
              "      <th>movie_title</th>\n",
              "      <th>imdb_score</th>\n",
              "      <th>content_rating</th>\n",
              "      <th>budget</th>\n",
              "      <th>gross</th>\n",
              "      <th>duration</th>\n",
              "      <th>genres</th>\n",
              "      <th>actor_1_name</th>\n",
              "      <th>actor_2_name</th>\n",
              "      <th>actor_3_name</th>\n",
              "      <th>director_name</th>\n",
              "      <th>language</th>\n",
              "      <th>country</th>\n",
              "      <th>aspect_ratio</th>\n",
              "      <th>title_year</th>\n",
              "    </tr>\n",
              "  </thead>\n",
              "  <tbody>\n",
              "    <tr>\n",
              "      <th>2051</th>\n",
              "      <td>Star Wars: Episode V - The Empire Strikes Back</td>\n",
              "      <td>8.8</td>\n",
              "      <td>PG</td>\n",
              "      <td>18000000.0</td>\n",
              "      <td>290158751.0</td>\n",
              "      <td>127.0</td>\n",
              "      <td>Action|Adventure|Fantasy|Sci-Fi</td>\n",
              "      <td>Harrison Ford</td>\n",
              "      <td>Kenny Baker</td>\n",
              "      <td>Anthony Daniels</td>\n",
              "      <td>Irvin Kershner</td>\n",
              "      <td>English</td>\n",
              "      <td>USA</td>\n",
              "      <td>2.35</td>\n",
              "      <td>1980.0</td>\n",
              "    </tr>\n",
              "    <tr>\n",
              "      <th>2373</th>\n",
              "      <td>Spirited Away</td>\n",
              "      <td>8.6</td>\n",
              "      <td>PG</td>\n",
              "      <td>19000000.0</td>\n",
              "      <td>10049886.0</td>\n",
              "      <td>125.0</td>\n",
              "      <td>Adventure|Animation|Family|Fantasy</td>\n",
              "      <td>Bunta Sugawara</td>\n",
              "      <td>Ryûnosuke Kamiki</td>\n",
              "      <td>Miyu Irino</td>\n",
              "      <td>Hayao Miyazaki</td>\n",
              "      <td>Japanese</td>\n",
              "      <td>Japan</td>\n",
              "      <td>1.85</td>\n",
              "      <td>2001.0</td>\n",
              "    </tr>\n",
              "    <tr>\n",
              "      <th>3024</th>\n",
              "      <td>Star Wars: Episode IV - A New Hope</td>\n",
              "      <td>8.7</td>\n",
              "      <td>PG</td>\n",
              "      <td>11000000.0</td>\n",
              "      <td>460935665.0</td>\n",
              "      <td>125.0</td>\n",
              "      <td>Action|Adventure|Fantasy|Sci-Fi</td>\n",
              "      <td>Harrison Ford</td>\n",
              "      <td>Peter Cushing</td>\n",
              "      <td>Kenny Baker</td>\n",
              "      <td>George Lucas</td>\n",
              "      <td>English</td>\n",
              "      <td>USA</td>\n",
              "      <td>2.35</td>\n",
              "      <td>1977.0</td>\n",
              "    </tr>\n",
              "    <tr>\n",
              "      <th>4049</th>\n",
              "      <td>It's a Wonderful Life</td>\n",
              "      <td>8.6</td>\n",
              "      <td>PG</td>\n",
              "      <td>3180000.0</td>\n",
              "      <td>NaN</td>\n",
              "      <td>118.0</td>\n",
              "      <td>Drama|Family|Fantasy|Romance</td>\n",
              "      <td>Donna Reed</td>\n",
              "      <td>Lionel Barrymore</td>\n",
              "      <td>Thomas Mitchell</td>\n",
              "      <td>Frank Capra</td>\n",
              "      <td>English</td>\n",
              "      <td>USA</td>\n",
              "      <td>1.37</td>\n",
              "      <td>1946.0</td>\n",
              "    </tr>\n",
              "    <tr>\n",
              "      <th>4526</th>\n",
              "      <td>Casablanca</td>\n",
              "      <td>8.6</td>\n",
              "      <td>PG</td>\n",
              "      <td>950000.0</td>\n",
              "      <td>NaN</td>\n",
              "      <td>82.0</td>\n",
              "      <td>Drama|Romance|War</td>\n",
              "      <td>Humphrey Bogart</td>\n",
              "      <td>Claude Rains</td>\n",
              "      <td>Conrad Veidt</td>\n",
              "      <td>Michael Curtiz</td>\n",
              "      <td>English</td>\n",
              "      <td>USA</td>\n",
              "      <td>1.37</td>\n",
              "      <td>1942.0</td>\n",
              "    </tr>\n",
              "  </tbody>\n",
              "</table>\n",
              "</div>"
            ],
            "text/plain": [
              "                                          movie_title  ...  title_year\n",
              "2051  Star Wars: Episode V - The Empire Strikes Back   ...      1980.0\n",
              "2373                                   Spirited Away   ...      2001.0\n",
              "3024              Star Wars: Episode IV - A New Hope   ...      1977.0\n",
              "4049                           It's a Wonderful Life   ...      1946.0\n",
              "4526                                      Casablanca   ...      1942.0\n",
              "\n",
              "[5 rows x 15 columns]"
            ]
          },
          "metadata": {},
          "execution_count": 46
        }
      ]
    },
    {
      "cell_type": "markdown",
      "metadata": {
        "id": "VZ7UwTn2gVDG"
      },
      "source": [
        "This works because each part of our code `returns` a dataframe, so we can keep tagging along functions instead of saving each step into a temporary variable."
      ]
    },
    {
      "cell_type": "markdown",
      "metadata": {
        "id": "SCvt0zROgVDH"
      },
      "source": [
        "**Try it out:** In one line, see if you can find the value counts of `content_rating` for movies with a gross revenue (`gross`) over `200000000` ($ 200 million)"
      ]
    },
    {
      "cell_type": "code",
      "metadata": {
        "tags": [
          "practice"
        ],
        "id": "IZWmbNnigVDH",
        "colab": {
          "base_uri": "https://localhost:8080/"
        },
        "outputId": "eb75caa1-6d0f-445f-c9d0-17405ca0461d"
      },
      "source": [
        "movies.loc[movies.gross > 200000000].content_rating.value_counts()"
      ],
      "execution_count": null,
      "outputs": [
        {
          "output_type": "execute_result",
          "data": {
            "text/plain": [
              "PG-13    97\n",
              "PG       49\n",
              "R        11\n",
              "G        10\n",
              "Name: content_rating, dtype: int64"
            ]
          },
          "metadata": {},
          "execution_count": 49
        }
      ]
    },
    {
      "cell_type": "markdown",
      "metadata": {
        "id": "LeLW77VKgVDH"
      },
      "source": [
        "# Practice w/ UFOs"
      ]
    },
    {
      "cell_type": "markdown",
      "metadata": {
        "id": "0gO-rzJDgVDH"
      },
      "source": [
        "Data sampled from the National UFO Reporting Center (NUFORC)\n",
        "<br>With your breakout groups, open up `ufo.csv` and answer the following questions:\n",
        "\n",
        "1. Among the West Coast states (California, Oregon, and Washington), how long (on average) did the fireballs encounters last?\n",
        "2. Which state saw the most encounters that lasted between 5 minutes to 1 hour?\n",
        "3. There was one particularly interesting encounter on `2/11/2004 00:00` in West Palm Beach, Florida. What happened?\n",
        "\n",
        "<br>Hint: Break down each question into parts, and chain them back together. There's no particular 'right' way\n",
        "<br>To refer to the `shape` column, use `ufo['shape']` instead of `ufo.shape`, since the latter is a reserved attribute\n",
        "\n",
        "<br> URL = `https://raw.githubusercontent.com/ishaandey/node/master/week-2/workshop/ufo.csv`"
      ]
    },
    {
      "cell_type": "code",
      "metadata": {
        "tags": [
          "practice"
        ],
        "id": "ZplJIkDYgVDH",
        "colab": {
          "base_uri": "https://localhost:8080/",
          "height": 201
        },
        "outputId": "a040c580-a97a-46b2-a8c2-8d05b8b6a740"
      },
      "source": [
        "# Read data\n",
        "ufo.columns\n",
        "ufo = pd.read_csv('https://raw.githubusercontent.com/ishaandey/node/master/week-2/workshop/ufo.csv')"
      ],
      "execution_count": null,
      "outputs": [
        {
          "output_type": "error",
          "ename": "NameError",
          "evalue": "ignored",
          "traceback": [
            "\u001b[0;31m---------------------------------------------------------------------------\u001b[0m",
            "\u001b[0;31mNameError\u001b[0m                                 Traceback (most recent call last)",
            "\u001b[0;32m<ipython-input-1-a12a240ff5f3>\u001b[0m in \u001b[0;36m<module>\u001b[0;34m()\u001b[0m\n\u001b[1;32m      1\u001b[0m \u001b[0;31m# Read data\u001b[0m\u001b[0;34m\u001b[0m\u001b[0;34m\u001b[0m\u001b[0;34m\u001b[0m\u001b[0m\n\u001b[0;32m----> 2\u001b[0;31m \u001b[0mufo\u001b[0m\u001b[0;34m.\u001b[0m\u001b[0mcolumns\u001b[0m\u001b[0;34m\u001b[0m\u001b[0;34m\u001b[0m\u001b[0m\n\u001b[0m\u001b[1;32m      3\u001b[0m \u001b[0mufo\u001b[0m \u001b[0;34m=\u001b[0m \u001b[0mpd\u001b[0m\u001b[0;34m.\u001b[0m\u001b[0mread_csv\u001b[0m\u001b[0;34m(\u001b[0m\u001b[0;34m'https://raw.githubusercontent.com/ishaandey/node/master/week-2/workshop/ufo.csv'\u001b[0m\u001b[0;34m)\u001b[0m\u001b[0;34m\u001b[0m\u001b[0;34m\u001b[0m\u001b[0m\n",
            "\u001b[0;31mNameError\u001b[0m: name 'ufo' is not defined"
          ]
        }
      ]
    },
    {
      "cell_type": "code",
      "metadata": {
        "tags": [
          "practice"
        ],
        "id": "6CAzvhkegVDH",
        "colab": {
          "base_uri": "https://localhost:8080/"
        },
        "outputId": "155a3e62-c12b-404a-f0bf-6083c99c0b9d"
      },
      "source": [
        "# 1\n",
        "ufo[ufo.state.isin(['ca', 'or', 'wa'])].loc[ufo.shape_type == 'fireball'].duration_sec.mean()"
      ],
      "execution_count": null,
      "outputs": [
        {
          "output_type": "execute_result",
          "data": {
            "text/plain": [
              "238.88888888888889"
            ]
          },
          "metadata": {},
          "execution_count": 62
        }
      ]
    },
    {
      "cell_type": "code",
      "metadata": {
        "tags": [
          "practice"
        ],
        "id": "C_75q3jTgVDI",
        "colab": {
          "base_uri": "https://localhost:8080/"
        },
        "outputId": "9e67baca-6f02-43fb-8bf1-7f62e9f64a1d"
      },
      "source": [
        "# 2\n",
        "\n",
        "ufo[ufo.duration_sec >= 300].loc[ufo.duration_sec <= 3600].state.value_counts().head(1)"
      ],
      "execution_count": null,
      "outputs": [
        {
          "output_type": "execute_result",
          "data": {
            "text/plain": [
              "ca    392\n",
              "Name: state, dtype: int64"
            ]
          },
          "metadata": {},
          "execution_count": 78
        }
      ]
    },
    {
      "cell_type": "code",
      "metadata": {
        "tags": [
          "practice"
        ],
        "id": "3tVsw7J5gVDI",
        "colab": {
          "base_uri": "https://localhost:8080/",
          "height": 35
        },
        "outputId": "be73da1d-c543-4db9-e943-2f74ba37aacc"
      },
      "source": [
        "# 3\n",
        "ufo[ufo.datetime == '2/11/2004 00:00'].loc[ufo.state == 'fl'].comments.values[0]\n"
      ],
      "execution_count": null,
      "outputs": [
        {
          "output_type": "execute_result",
          "data": {
            "application/vnd.google.colaboratory.intrinsic+json": {
              "type": "string"
            },
            "text/plain": [
              "'BLINDING LIGHT LIFTED MY DOG AND TOOK OFF INTO SPACE'"
            ]
          },
          "metadata": {},
          "execution_count": 76
        }
      ]
    },
    {
      "cell_type": "markdown",
      "metadata": {
        "id": "jdi7zUoXy1p-"
      },
      "source": [
        "# Groupby Objects"
      ]
    },
    {
      "cell_type": "markdown",
      "metadata": {
        "id": "MDq1cI5Wd_w3"
      },
      "source": [
        "From before, we used `value_counts()` to get the number of movies per each content rating"
      ]
    },
    {
      "cell_type": "code",
      "metadata": {
        "id": "nK7wHNPoqh5Q",
        "tags": [
          "workshop"
        ],
        "colab": {
          "base_uri": "https://localhost:8080/"
        },
        "outputId": "db59918b-2306-4ff9-9212-8eefdd4603f2"
      },
      "source": [
        "movies.content_rating.value_counts() #old way\n"
      ],
      "execution_count": null,
      "outputs": [
        {
          "output_type": "execute_result",
          "data": {
            "text/plain": [
              "R        2118\n",
              "PG-13    1461\n",
              "PG        701\n",
              "         ... \n",
              "M           5\n",
              "TV-Y        1\n",
              "TV-Y7       1\n",
              "Name: content_rating, Length: 18, dtype: int64"
            ]
          },
          "metadata": {},
          "execution_count": 79
        }
      ]
    },
    {
      "cell_type": "markdown",
      "metadata": {
        "id": "OPu5kvFTeINX"
      },
      "source": [
        "This is a good summary statistic to examine the distribution of our dataset. But...\n",
        "\n",
        "<br>What if we want to know how movie performance differs by rating?\n",
        "<br>We need to apply some function (i.e. take the mean of revenue) **per each** content rating"
      ]
    },
    {
      "cell_type": "code",
      "metadata": {
        "id": "nFfz0cNvqnp_"
      },
      "source": [
        "movies_byRating = movies.groupby('content_rating')"
      ],
      "execution_count": null,
      "outputs": []
    },
    {
      "cell_type": "markdown",
      "metadata": {
        "id": "iLYEMytqeku0"
      },
      "source": [
        "This creates a special **GroupBy object**. \n",
        "\n",
        "<br>For now, let's think of it like a *collection* of dataframes, seperated by each unique value from content rating (One group for `R`, `PG-13`, etc).\n",
        "<br>We can't easily render what the entire GroupBy object looks like, but we can pull out a particular group"
      ]
    },
    {
      "cell_type": "code",
      "metadata": {
        "id": "cGnWtntDgVDJ",
        "colab": {
          "base_uri": "https://localhost:8080/",
          "height": 439
        },
        "outputId": "de539567-a9c3-46fd-eb01-dee70e6a2cd0"
      },
      "source": [
        "movies_byRating.get_group('R')"
      ],
      "execution_count": null,
      "outputs": [
        {
          "output_type": "execute_result",
          "data": {
            "text/html": [
              "<div>\n",
              "<style scoped>\n",
              "    .dataframe tbody tr th:only-of-type {\n",
              "        vertical-align: middle;\n",
              "    }\n",
              "\n",
              "    .dataframe tbody tr th {\n",
              "        vertical-align: top;\n",
              "    }\n",
              "\n",
              "    .dataframe thead th {\n",
              "        text-align: right;\n",
              "    }\n",
              "</style>\n",
              "<table border=\"1\" class=\"dataframe\">\n",
              "  <thead>\n",
              "    <tr style=\"text-align: right;\">\n",
              "      <th></th>\n",
              "      <th>movie_title</th>\n",
              "      <th>imdb_score</th>\n",
              "      <th>content_rating</th>\n",
              "      <th>budget</th>\n",
              "      <th>gross</th>\n",
              "      <th>duration</th>\n",
              "      <th>genres</th>\n",
              "      <th>actor_1_name</th>\n",
              "      <th>actor_2_name</th>\n",
              "      <th>actor_3_name</th>\n",
              "      <th>director_name</th>\n",
              "      <th>language</th>\n",
              "      <th>country</th>\n",
              "      <th>aspect_ratio</th>\n",
              "      <th>title_year</th>\n",
              "    </tr>\n",
              "  </thead>\n",
              "  <tbody>\n",
              "    <tr>\n",
              "      <th>84</th>\n",
              "      <td>The Lovers</td>\n",
              "      <td>4.5</td>\n",
              "      <td>R</td>\n",
              "      <td>NaN</td>\n",
              "      <td>NaN</td>\n",
              "      <td>109.0</td>\n",
              "      <td>Action|Adventure|Romance|Sci-Fi</td>\n",
              "      <td>Tamsin Egerton</td>\n",
              "      <td>Alice Englert</td>\n",
              "      <td>Bipasha Basu</td>\n",
              "      <td>Roland Joffé</td>\n",
              "      <td>English</td>\n",
              "      <td>Belgium</td>\n",
              "      <td>NaN</td>\n",
              "      <td>2015.0</td>\n",
              "    </tr>\n",
              "    <tr>\n",
              "      <th>94</th>\n",
              "      <td>Terminator 3: Rise of the Machines</td>\n",
              "      <td>6.4</td>\n",
              "      <td>R</td>\n",
              "      <td>200000000.0</td>\n",
              "      <td>150350192.0</td>\n",
              "      <td>109.0</td>\n",
              "      <td>Action|Sci-Fi</td>\n",
              "      <td>Nick Stahl</td>\n",
              "      <td>M.C. Gainey</td>\n",
              "      <td>Carolyn Hennesy</td>\n",
              "      <td>Jonathan Mostow</td>\n",
              "      <td>English</td>\n",
              "      <td>USA</td>\n",
              "      <td>2.35</td>\n",
              "      <td>2003.0</td>\n",
              "    </tr>\n",
              "    <tr>\n",
              "      <th>113</th>\n",
              "      <td>Alexander</td>\n",
              "      <td>5.5</td>\n",
              "      <td>R</td>\n",
              "      <td>155000000.0</td>\n",
              "      <td>34293771.0</td>\n",
              "      <td>206.0</td>\n",
              "      <td>Action|Adventure|Biography|Drama|History|Roman...</td>\n",
              "      <td>Anthony Hopkins</td>\n",
              "      <td>Angelina Jolie Pitt</td>\n",
              "      <td>Brian Blessed</td>\n",
              "      <td>Oliver Stone</td>\n",
              "      <td>English</td>\n",
              "      <td>Germany</td>\n",
              "      <td>2.35</td>\n",
              "      <td>2004.0</td>\n",
              "    </tr>\n",
              "    <tr>\n",
              "      <th>...</th>\n",
              "      <td>...</td>\n",
              "      <td>...</td>\n",
              "      <td>...</td>\n",
              "      <td>...</td>\n",
              "      <td>...</td>\n",
              "      <td>...</td>\n",
              "      <td>...</td>\n",
              "      <td>...</td>\n",
              "      <td>...</td>\n",
              "      <td>...</td>\n",
              "      <td>...</td>\n",
              "      <td>...</td>\n",
              "      <td>...</td>\n",
              "      <td>...</td>\n",
              "      <td>...</td>\n",
              "    </tr>\n",
              "    <tr>\n",
              "      <th>5021</th>\n",
              "      <td>The Puffy Chair</td>\n",
              "      <td>6.6</td>\n",
              "      <td>R</td>\n",
              "      <td>15000.0</td>\n",
              "      <td>192467.0</td>\n",
              "      <td>85.0</td>\n",
              "      <td>Comedy|Drama|Romance</td>\n",
              "      <td>Mark Duplass</td>\n",
              "      <td>Katie Aselton</td>\n",
              "      <td>Bari Hyman</td>\n",
              "      <td>Jay Duplass</td>\n",
              "      <td>English</td>\n",
              "      <td>USA</td>\n",
              "      <td>NaN</td>\n",
              "      <td>2005.0</td>\n",
              "    </tr>\n",
              "    <tr>\n",
              "      <th>5026</th>\n",
              "      <td>Clean</td>\n",
              "      <td>6.9</td>\n",
              "      <td>R</td>\n",
              "      <td>4500.0</td>\n",
              "      <td>136007.0</td>\n",
              "      <td>110.0</td>\n",
              "      <td>Drama|Music|Romance</td>\n",
              "      <td>Maggie Cheung</td>\n",
              "      <td>Béatrice Dalle</td>\n",
              "      <td>Don McKellar</td>\n",
              "      <td>Olivier Assayas</td>\n",
              "      <td>French</td>\n",
              "      <td>France</td>\n",
              "      <td>2.35</td>\n",
              "      <td>2004.0</td>\n",
              "    </tr>\n",
              "    <tr>\n",
              "      <th>5035</th>\n",
              "      <td>El Mariachi</td>\n",
              "      <td>6.9</td>\n",
              "      <td>R</td>\n",
              "      <td>7000.0</td>\n",
              "      <td>2040920.0</td>\n",
              "      <td>81.0</td>\n",
              "      <td>Action|Crime|Drama|Romance|Thriller</td>\n",
              "      <td>Carlos Gallardo</td>\n",
              "      <td>Peter Marquardt</td>\n",
              "      <td>Consuelo Gómez</td>\n",
              "      <td>Robert Rodriguez</td>\n",
              "      <td>Spanish</td>\n",
              "      <td>USA</td>\n",
              "      <td>1.37</td>\n",
              "      <td>1992.0</td>\n",
              "    </tr>\n",
              "  </tbody>\n",
              "</table>\n",
              "<p>2118 rows × 15 columns</p>\n",
              "</div>"
            ],
            "text/plain": [
              "                              movie_title  imdb_score  ... aspect_ratio  title_year\n",
              "84                            The Lovers          4.5  ...          NaN      2015.0\n",
              "94    Terminator 3: Rise of the Machines          6.4  ...         2.35      2003.0\n",
              "113                            Alexander          5.5  ...         2.35      2004.0\n",
              "...                                   ...         ...  ...          ...         ...\n",
              "5021                     The Puffy Chair          6.6  ...          NaN      2005.0\n",
              "5026                               Clean          6.9  ...         2.35      2004.0\n",
              "5035                         El Mariachi          6.9  ...         1.37      1992.0\n",
              "\n",
              "[2118 rows x 15 columns]"
            ]
          },
          "metadata": {},
          "execution_count": 7
        }
      ]
    },
    {
      "cell_type": "code",
      "metadata": {
        "id": "HNNXjBj1gVDJ",
        "colab": {
          "base_uri": "https://localhost:8080/",
          "height": 382
        },
        "outputId": "39e4e066-6580-4d8b-c708-3a1ba5ee0f3c"
      },
      "source": [
        "print(type(movies_byRating.get_group('PG')))\n",
        "movies_byRating.get_group('PG').head()"
      ],
      "execution_count": null,
      "outputs": [
        {
          "output_type": "stream",
          "name": "stdout",
          "text": [
            "<class 'pandas.core.frame.DataFrame'>\n"
          ]
        },
        {
          "output_type": "execute_result",
          "data": {
            "text/html": [
              "<div>\n",
              "<style scoped>\n",
              "    .dataframe tbody tr th:only-of-type {\n",
              "        vertical-align: middle;\n",
              "    }\n",
              "\n",
              "    .dataframe tbody tr th {\n",
              "        vertical-align: top;\n",
              "    }\n",
              "\n",
              "    .dataframe thead th {\n",
              "        text-align: right;\n",
              "    }\n",
              "</style>\n",
              "<table border=\"1\" class=\"dataframe\">\n",
              "  <thead>\n",
              "    <tr style=\"text-align: right;\">\n",
              "      <th></th>\n",
              "      <th>movie_title</th>\n",
              "      <th>imdb_score</th>\n",
              "      <th>content_rating</th>\n",
              "      <th>budget</th>\n",
              "      <th>gross</th>\n",
              "      <th>duration</th>\n",
              "      <th>genres</th>\n",
              "      <th>actor_1_name</th>\n",
              "      <th>actor_2_name</th>\n",
              "      <th>actor_3_name</th>\n",
              "      <th>director_name</th>\n",
              "      <th>language</th>\n",
              "      <th>country</th>\n",
              "      <th>aspect_ratio</th>\n",
              "      <th>title_year</th>\n",
              "    </tr>\n",
              "  </thead>\n",
              "  <tbody>\n",
              "    <tr>\n",
              "      <th>7</th>\n",
              "      <td>Tangled</td>\n",
              "      <td>7.8</td>\n",
              "      <td>PG</td>\n",
              "      <td>260000000.0</td>\n",
              "      <td>200807262.0</td>\n",
              "      <td>100.0</td>\n",
              "      <td>Adventure|Animation|Comedy|Family|Fantasy|Musi...</td>\n",
              "      <td>Brad Garrett</td>\n",
              "      <td>Donna Murphy</td>\n",
              "      <td>M.C. Gainey</td>\n",
              "      <td>Nathan Greno</td>\n",
              "      <td>English</td>\n",
              "      <td>USA</td>\n",
              "      <td>1.85</td>\n",
              "      <td>2010.0</td>\n",
              "    </tr>\n",
              "    <tr>\n",
              "      <th>9</th>\n",
              "      <td>Harry Potter and the Half-Blood Prince</td>\n",
              "      <td>7.5</td>\n",
              "      <td>PG</td>\n",
              "      <td>250000000.0</td>\n",
              "      <td>301956980.0</td>\n",
              "      <td>153.0</td>\n",
              "      <td>Adventure|Family|Fantasy|Mystery</td>\n",
              "      <td>Alan Rickman</td>\n",
              "      <td>Daniel Radcliffe</td>\n",
              "      <td>Rupert Grint</td>\n",
              "      <td>David Yates</td>\n",
              "      <td>English</td>\n",
              "      <td>UK</td>\n",
              "      <td>2.35</td>\n",
              "      <td>2009.0</td>\n",
              "    </tr>\n",
              "    <tr>\n",
              "      <th>16</th>\n",
              "      <td>The Chronicles of Narnia: Prince Caspian</td>\n",
              "      <td>6.6</td>\n",
              "      <td>PG</td>\n",
              "      <td>225000000.0</td>\n",
              "      <td>141614023.0</td>\n",
              "      <td>150.0</td>\n",
              "      <td>Action|Adventure|Family|Fantasy</td>\n",
              "      <td>Peter Dinklage</td>\n",
              "      <td>Pierfrancesco Favino</td>\n",
              "      <td>Damián Alcázar</td>\n",
              "      <td>Andrew Adamson</td>\n",
              "      <td>English</td>\n",
              "      <td>USA</td>\n",
              "      <td>2.35</td>\n",
              "      <td>2008.0</td>\n",
              "    </tr>\n",
              "    <tr>\n",
              "      <th>33</th>\n",
              "      <td>Alice in Wonderland</td>\n",
              "      <td>6.5</td>\n",
              "      <td>PG</td>\n",
              "      <td>200000000.0</td>\n",
              "      <td>334185206.0</td>\n",
              "      <td>108.0</td>\n",
              "      <td>Adventure|Family|Fantasy</td>\n",
              "      <td>Johnny Depp</td>\n",
              "      <td>Alan Rickman</td>\n",
              "      <td>Anne Hathaway</td>\n",
              "      <td>Tim Burton</td>\n",
              "      <td>English</td>\n",
              "      <td>USA</td>\n",
              "      <td>1.85</td>\n",
              "      <td>2010.0</td>\n",
              "    </tr>\n",
              "    <tr>\n",
              "      <th>38</th>\n",
              "      <td>Oz the Great and Powerful</td>\n",
              "      <td>6.4</td>\n",
              "      <td>PG</td>\n",
              "      <td>215000000.0</td>\n",
              "      <td>234903076.0</td>\n",
              "      <td>130.0</td>\n",
              "      <td>Adventure|Family|Fantasy</td>\n",
              "      <td>Tim Holmes</td>\n",
              "      <td>Mila Kunis</td>\n",
              "      <td>James Franco</td>\n",
              "      <td>Sam Raimi</td>\n",
              "      <td>English</td>\n",
              "      <td>USA</td>\n",
              "      <td>2.35</td>\n",
              "      <td>2013.0</td>\n",
              "    </tr>\n",
              "  </tbody>\n",
              "</table>\n",
              "</div>"
            ],
            "text/plain": [
              "                                  movie_title  ...  title_year\n",
              "7                                    Tangled   ...      2010.0\n",
              "9     Harry Potter and the Half-Blood Prince   ...      2009.0\n",
              "16  The Chronicles of Narnia: Prince Caspian   ...      2008.0\n",
              "33                       Alice in Wonderland   ...      2010.0\n",
              "38                 Oz the Great and Powerful   ...      2013.0\n",
              "\n",
              "[5 rows x 15 columns]"
            ]
          },
          "metadata": {},
          "execution_count": 8
        }
      ]
    },
    {
      "cell_type": "markdown",
      "metadata": {
        "id": "p01IZvqsgVDJ"
      },
      "source": [
        "When we apply **aggregation** functions to a `GroupBy` object, we get back averages for each column in the dataframe, **broken down** by content rating"
      ]
    },
    {
      "cell_type": "code",
      "metadata": {
        "id": "_QNmOmInfaA3",
        "colab": {
          "base_uri": "https://localhost:8080/",
          "height": 329
        },
        "outputId": "a27e7817-eed5-4264-d35d-1b15fd918635"
      },
      "source": [
        "movies_byRating.agg('mean')"
      ],
      "execution_count": null,
      "outputs": [
        {
          "output_type": "execute_result",
          "data": {
            "text/html": [
              "<div>\n",
              "<style scoped>\n",
              "    .dataframe tbody tr th:only-of-type {\n",
              "        vertical-align: middle;\n",
              "    }\n",
              "\n",
              "    .dataframe tbody tr th {\n",
              "        vertical-align: top;\n",
              "    }\n",
              "\n",
              "    .dataframe thead th {\n",
              "        text-align: right;\n",
              "    }\n",
              "</style>\n",
              "<table border=\"1\" class=\"dataframe\">\n",
              "  <thead>\n",
              "    <tr style=\"text-align: right;\">\n",
              "      <th></th>\n",
              "      <th>imdb_score</th>\n",
              "      <th>budget</th>\n",
              "      <th>gross</th>\n",
              "      <th>duration</th>\n",
              "      <th>aspect_ratio</th>\n",
              "      <th>title_year</th>\n",
              "    </tr>\n",
              "    <tr>\n",
              "      <th>content_rating</th>\n",
              "      <th></th>\n",
              "      <th></th>\n",
              "      <th></th>\n",
              "      <th></th>\n",
              "      <th></th>\n",
              "      <th></th>\n",
              "    </tr>\n",
              "  </thead>\n",
              "  <tbody>\n",
              "    <tr>\n",
              "      <th>Approved</th>\n",
              "      <td>7.325455</td>\n",
              "      <td>4.142475e+06</td>\n",
              "      <td>4.814586e+07</td>\n",
              "      <td>116.218182</td>\n",
              "      <td>1.735818</td>\n",
              "      <td>1954.781818</td>\n",
              "    </tr>\n",
              "    <tr>\n",
              "      <th>G</th>\n",
              "      <td>6.529464</td>\n",
              "      <td>4.499913e+07</td>\n",
              "      <td>8.245516e+07</td>\n",
              "      <td>98.973214</td>\n",
              "      <td>1.962523</td>\n",
              "      <td>1995.892857</td>\n",
              "    </tr>\n",
              "    <tr>\n",
              "      <th>GP</th>\n",
              "      <td>6.916667</td>\n",
              "      <td>5.550000e+06</td>\n",
              "      <td>4.380000e+07</td>\n",
              "      <td>110.833333</td>\n",
              "      <td>2.024000</td>\n",
              "      <td>1970.666667</td>\n",
              "    </tr>\n",
              "    <tr>\n",
              "      <th>...</th>\n",
              "      <td>...</td>\n",
              "      <td>...</td>\n",
              "      <td>...</td>\n",
              "      <td>...</td>\n",
              "      <td>...</td>\n",
              "      <td>...</td>\n",
              "    </tr>\n",
              "    <tr>\n",
              "      <th>TV-Y7</th>\n",
              "      <td>7.200000</td>\n",
              "      <td>NaN</td>\n",
              "      <td>NaN</td>\n",
              "      <td>30.000000</td>\n",
              "      <td>4.000000</td>\n",
              "      <td>NaN</td>\n",
              "    </tr>\n",
              "    <tr>\n",
              "      <th>Unrated</th>\n",
              "      <td>6.920968</td>\n",
              "      <td>5.092971e+06</td>\n",
              "      <td>4.302599e+06</td>\n",
              "      <td>102.790323</td>\n",
              "      <td>2.110370</td>\n",
              "      <td>1990.354839</td>\n",
              "    </tr>\n",
              "    <tr>\n",
              "      <th>X</th>\n",
              "      <td>6.500000</td>\n",
              "      <td>3.338462e+06</td>\n",
              "      <td>1.865881e+07</td>\n",
              "      <td>92.615385</td>\n",
              "      <td>1.928462</td>\n",
              "      <td>1981.307692</td>\n",
              "    </tr>\n",
              "  </tbody>\n",
              "</table>\n",
              "<p>18 rows × 6 columns</p>\n",
              "</div>"
            ],
            "text/plain": [
              "                imdb_score        budget  ...  aspect_ratio   title_year\n",
              "content_rating                            ...                           \n",
              "Approved          7.325455  4.142475e+06  ...      1.735818  1954.781818\n",
              "G                 6.529464  4.499913e+07  ...      1.962523  1995.892857\n",
              "GP                6.916667  5.550000e+06  ...      2.024000  1970.666667\n",
              "...                    ...           ...  ...           ...          ...\n",
              "TV-Y7             7.200000           NaN  ...      4.000000          NaN\n",
              "Unrated           6.920968  5.092971e+06  ...      2.110370  1990.354839\n",
              "X                 6.500000  3.338462e+06  ...      1.928462  1981.307692\n",
              "\n",
              "[18 rows x 6 columns]"
            ]
          },
          "metadata": {},
          "execution_count": 85
        }
      ]
    },
    {
      "cell_type": "markdown",
      "metadata": {
        "id": "NHE2_z1ngVDK"
      },
      "source": [
        "If we were just to apply `.mean()` to the entire dataframe, we'd only get back one row with summaries for the entire dataset"
      ]
    },
    {
      "cell_type": "code",
      "metadata": {
        "id": "ciOlP0krgVDK",
        "colab": {
          "base_uri": "https://localhost:8080/",
          "height": 81
        },
        "outputId": "6611bcd4-fef8-4efc-baf6-ba8f1239f177"
      },
      "source": [
        "pd.DataFrame(movies.mean(), columns=['Total']).T"
      ],
      "execution_count": null,
      "outputs": [
        {
          "output_type": "execute_result",
          "data": {
            "text/html": [
              "<div>\n",
              "<style scoped>\n",
              "    .dataframe tbody tr th:only-of-type {\n",
              "        vertical-align: middle;\n",
              "    }\n",
              "\n",
              "    .dataframe tbody tr th {\n",
              "        vertical-align: top;\n",
              "    }\n",
              "\n",
              "    .dataframe thead th {\n",
              "        text-align: right;\n",
              "    }\n",
              "</style>\n",
              "<table border=\"1\" class=\"dataframe\">\n",
              "  <thead>\n",
              "    <tr style=\"text-align: right;\">\n",
              "      <th></th>\n",
              "      <th>imdb_score</th>\n",
              "      <th>budget</th>\n",
              "      <th>gross</th>\n",
              "      <th>duration</th>\n",
              "      <th>aspect_ratio</th>\n",
              "      <th>title_year</th>\n",
              "    </tr>\n",
              "  </thead>\n",
              "  <tbody>\n",
              "    <tr>\n",
              "      <th>Total</th>\n",
              "      <td>6.442138</td>\n",
              "      <td>3.975262e+07</td>\n",
              "      <td>4.846841e+07</td>\n",
              "      <td>107.201074</td>\n",
              "      <td>2.220403</td>\n",
              "      <td>2002.470517</td>\n",
              "    </tr>\n",
              "  </tbody>\n",
              "</table>\n",
              "</div>"
            ],
            "text/plain": [
              "       imdb_score        budget  ...  aspect_ratio   title_year\n",
              "Total    6.442138  3.975262e+07  ...      2.220403  2002.470517\n",
              "\n",
              "[1 rows x 6 columns]"
            ]
          },
          "metadata": {},
          "execution_count": 86
        }
      ]
    },
    {
      "cell_type": "markdown",
      "metadata": {
        "id": "Oq6ysfSZgVDK"
      },
      "source": [
        "We've got other ways to aggregate the data too.\n",
        "\n",
        "Here, we're showing the mean, max, and min values of `imdb_score` by passing in multiple strings in a list to `.agg()`"
      ]
    },
    {
      "cell_type": "code",
      "metadata": {
        "id": "SWm9OtzssqRX",
        "tags": [
          "workshop"
        ],
        "colab": {
          "base_uri": "https://localhost:8080/",
          "height": 329
        },
        "outputId": "c5bec8ae-5e75-46b2-d9b4-e281a4409f46"
      },
      "source": [
        "movies_byRating['imdb_score'].agg(['mean', 'min', 'max', 'count']).sort_values('count', ascending = False)"
      ],
      "execution_count": null,
      "outputs": [
        {
          "output_type": "execute_result",
          "data": {
            "text/html": [
              "<div>\n",
              "<style scoped>\n",
              "    .dataframe tbody tr th:only-of-type {\n",
              "        vertical-align: middle;\n",
              "    }\n",
              "\n",
              "    .dataframe tbody tr th {\n",
              "        vertical-align: top;\n",
              "    }\n",
              "\n",
              "    .dataframe thead th {\n",
              "        text-align: right;\n",
              "    }\n",
              "</style>\n",
              "<table border=\"1\" class=\"dataframe\">\n",
              "  <thead>\n",
              "    <tr style=\"text-align: right;\">\n",
              "      <th></th>\n",
              "      <th>mean</th>\n",
              "      <th>min</th>\n",
              "      <th>max</th>\n",
              "      <th>count</th>\n",
              "    </tr>\n",
              "    <tr>\n",
              "      <th>content_rating</th>\n",
              "      <th></th>\n",
              "      <th></th>\n",
              "      <th></th>\n",
              "      <th></th>\n",
              "    </tr>\n",
              "  </thead>\n",
              "  <tbody>\n",
              "    <tr>\n",
              "      <th>R</th>\n",
              "      <td>6.527101</td>\n",
              "      <td>1.9</td>\n",
              "      <td>9.3</td>\n",
              "      <td>2118</td>\n",
              "    </tr>\n",
              "    <tr>\n",
              "      <th>PG-13</th>\n",
              "      <td>6.257495</td>\n",
              "      <td>1.9</td>\n",
              "      <td>9.0</td>\n",
              "      <td>1461</td>\n",
              "    </tr>\n",
              "    <tr>\n",
              "      <th>PG</th>\n",
              "      <td>6.294437</td>\n",
              "      <td>1.7</td>\n",
              "      <td>8.8</td>\n",
              "      <td>701</td>\n",
              "    </tr>\n",
              "    <tr>\n",
              "      <th>...</th>\n",
              "      <td>...</td>\n",
              "      <td>...</td>\n",
              "      <td>...</td>\n",
              "      <td>...</td>\n",
              "    </tr>\n",
              "    <tr>\n",
              "      <th>M</th>\n",
              "      <td>6.840000</td>\n",
              "      <td>6.0</td>\n",
              "      <td>8.1</td>\n",
              "      <td>5</td>\n",
              "    </tr>\n",
              "    <tr>\n",
              "      <th>TV-Y</th>\n",
              "      <td>7.400000</td>\n",
              "      <td>7.4</td>\n",
              "      <td>7.4</td>\n",
              "      <td>1</td>\n",
              "    </tr>\n",
              "    <tr>\n",
              "      <th>TV-Y7</th>\n",
              "      <td>7.200000</td>\n",
              "      <td>7.2</td>\n",
              "      <td>7.2</td>\n",
              "      <td>1</td>\n",
              "    </tr>\n",
              "  </tbody>\n",
              "</table>\n",
              "<p>18 rows × 4 columns</p>\n",
              "</div>"
            ],
            "text/plain": [
              "                    mean  min  max  count\n",
              "content_rating                           \n",
              "R               6.527101  1.9  9.3   2118\n",
              "PG-13           6.257495  1.9  9.0   1461\n",
              "PG              6.294437  1.7  8.8    701\n",
              "...                  ...  ...  ...    ...\n",
              "M               6.840000  6.0  8.1      5\n",
              "TV-Y            7.400000  7.4  7.4      1\n",
              "TV-Y7           7.200000  7.2  7.2      1\n",
              "\n",
              "[18 rows x 4 columns]"
            ]
          },
          "metadata": {},
          "execution_count": 89
        }
      ]
    },
    {
      "cell_type": "markdown",
      "metadata": {
        "id": "x5uIy1h-gfYU"
      },
      "source": [
        "The results of these groupby operations are all dataframes, check it out with the `type( )` operator\n",
        "This means we can start chaining together dataframe functions, for example `sort_values()` "
      ]
    },
    {
      "cell_type": "markdown",
      "metadata": {
        "id": "VZ7P-qEVgVDK"
      },
      "source": [
        "**Try it out:** Break down median revenues by country, then sort them highest to lowest"
      ]
    },
    {
      "cell_type": "code",
      "metadata": {
        "id": "zHaQ4MJF6yh_",
        "scrolled": true,
        "tags": [
          "practice"
        ]
      },
      "source": [
        "# 1"
      ],
      "execution_count": null,
      "outputs": []
    },
    {
      "cell_type": "markdown",
      "metadata": {
        "id": "W_LuQKAGgVDL"
      },
      "source": [
        "### Multilevel GroupBy"
      ]
    },
    {
      "cell_type": "markdown",
      "metadata": {
        "id": "jQwdYU36CHmD"
      },
      "source": [
        "We can also group on multiple columns to get *all unique combinations* of those columns. \n",
        "\n",
        "<br> For example, we can see if the relationship between `content_rating` and `imdb_rating` differs across countries by using both as keys"
      ]
    },
    {
      "cell_type": "code",
      "metadata": {
        "id": "F5ofScfDCG14"
      },
      "source": [],
      "execution_count": null,
      "outputs": []
    },
    {
      "cell_type": "code",
      "metadata": {
        "id": "EH9wMlMICtSv",
        "tags": [
          "workshop"
        ]
      },
      "source": [],
      "execution_count": null,
      "outputs": []
    },
    {
      "cell_type": "markdown",
      "metadata": {
        "id": "IFUsbuf1gVDL"
      },
      "source": [
        "# Summary"
      ]
    },
    {
      "cell_type": "markdown",
      "metadata": {
        "id": "96DkuURxgVDL"
      },
      "source": [
        "That's it for now!\n",
        "\n",
        "<br>Today you learned how to:\n",
        "- **Import** a dataset as a pandas object\n",
        "- Check out quick features, like `.head()`, `.shape`, and `.value_counts()`\n",
        "- The distinction between `pd.Series` and `pd.DataFrame` objects\n",
        "- **Filter** rows based on some condition\n",
        "- **Subset** columns to those we want"
      ]
    },
    {
      "cell_type": "markdown",
      "metadata": {
        "id": "ZhriG3SlgVDL"
      },
      "source": [
        "We also used special `GroupBy` objects to get specific drill-down insights by:\n",
        "<br>(1) first breaking out, or **grouping** a dataset based on some category, then\n",
        "<br>(2) **aggregating** information from each observation in that category\n",
        "\n",
        "<br> In practice, if we wanted to get a mean score, broken down by every value in a given column, we would do:\n",
        "<br>`df.groupby(by='group column').agg('mean').score_column`"
      ]
    }
  ]
}