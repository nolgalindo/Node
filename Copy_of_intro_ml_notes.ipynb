{
  "nbformat": 4,
  "nbformat_minor": 0,
  "metadata": {
    "kernelspec": {
      "display_name": "Python 3.7.7 64-bit ('node': conda)",
      "language": "python",
      "name": "python37764bitnodeconda078ddf2426c34064a6fe480538b1e0ec"
    },
    "language_info": {
      "codemirror_mode": {
        "name": "ipython",
        "version": 3
      },
      "file_extension": ".py",
      "mimetype": "text/x-python",
      "name": "python",
      "nbconvert_exporter": "python",
      "pygments_lexer": "ipython3",
      "version": "3.7.7-final"
    },
    "colab": {
      "provenance": [],
      "include_colab_link": true
    }
  },
  "cells": [
    {
      "cell_type": "markdown",
      "metadata": {
        "id": "view-in-github",
        "colab_type": "text"
      },
      "source": [
        "<a href=\"https://colab.research.google.com/github/nolgalindo/Node/blob/main/Copy_of_intro_ml_notes.ipynb\" target=\"_parent\"><img src=\"https://colab.research.google.com/assets/colab-badge.svg\" alt=\"Open In Colab\"/></a>"
      ]
    },
    {
      "cell_type": "markdown",
      "metadata": {
        "id": "uRWeVD3mz3XT"
      },
      "source": [
        "# Introduction to Machine Learning"
      ]
    },
    {
      "cell_type": "markdown",
      "metadata": {
        "id": "TLX1D5NUz3XX"
      },
      "source": [
        "As with anything, we'll start off with our usual imports."
      ]
    },
    {
      "cell_type": "code",
      "metadata": {
        "id": "KBJZ0bmoz3XY"
      },
      "source": [
        "import numpy as np\n",
        "import pandas as pd\n",
        "\n",
        "import plotly.express as px"
      ],
      "execution_count": null,
      "outputs": []
    },
    {
      "cell_type": "code",
      "metadata": {
        "id": "OCpDzoXp1iUB"
      },
      "source": [
        "import sklearn"
      ],
      "execution_count": null,
      "outputs": []
    },
    {
      "cell_type": "markdown",
      "metadata": {
        "id": "eEwuquZgz3XZ"
      },
      "source": [
        "For ML, we'll be using a new package: `sci-kit learn`. It's one of the best in Python, and has all sorts of helpful functions for preparing the data, creating models, and evaluating accuracy.\n",
        "\n",
        "If you don't have this yet installed, use `!pip install sklearn`"
      ]
    },
    {
      "cell_type": "code",
      "metadata": {
        "colab": {
          "base_uri": "https://localhost:8080/"
        },
        "id": "bj7tIOiEz_B-",
        "outputId": "d4518803-8ac2-4f31-b221-72781b5d53fd"
      },
      "source": [
        "!pip install sklearn"
      ],
      "execution_count": null,
      "outputs": [
        {
          "output_type": "stream",
          "name": "stdout",
          "text": [
            "Requirement already satisfied: sklearn in /usr/local/lib/python3.7/dist-packages (0.0)\n",
            "Requirement already satisfied: scikit-learn in /usr/local/lib/python3.7/dist-packages (from sklearn) (0.22.2.post1)\n",
            "Requirement already satisfied: scipy>=0.17.0 in /usr/local/lib/python3.7/dist-packages (from scikit-learn->sklearn) (1.4.1)\n",
            "Requirement already satisfied: joblib>=0.11 in /usr/local/lib/python3.7/dist-packages (from scikit-learn->sklearn) (1.0.1)\n",
            "Requirement already satisfied: numpy>=1.11.0 in /usr/local/lib/python3.7/dist-packages (from scikit-learn->sklearn) (1.19.5)\n"
          ]
        }
      ]
    },
    {
      "cell_type": "markdown",
      "metadata": {
        "id": "NbxDyLVjz3Xa"
      },
      "source": [
        "## Explore the data"
      ]
    },
    {
      "cell_type": "markdown",
      "metadata": {
        "id": "QmFxvnTdz3Xa"
      },
      "source": [
        "Today we'll be taking a look at heart disease data. \n",
        "\n",
        "Every observation (row) is associated with a `target`, a binary indicator for whether or not the patient developed heart disease. The columns each represent some biological metric for that patient. "
      ]
    },
    {
      "cell_type": "code",
      "metadata": {
        "id": "2BM3SZBZz3Xa"
      },
      "source": [
        "url = 'https://raw.githubusercontent.com/ishaandey/node/master/week-6/workshop/heart.csv'\n",
        "heart = pd.read_csv(url)"
      ],
      "execution_count": null,
      "outputs": []
    },
    {
      "cell_type": "code",
      "metadata": {
        "id": "9eokIa6oz3Xb"
      },
      "source": [
        "# Just some numerical conversions\n",
        "heart['target'] = heart['target'].map({1:'heart disease', 0:'no heart disease'})\n",
        "heart['sex'] = heart['sex'].map({1:'male',0:'female'})\n",
        "heart['cp'] = heart['cp'].map({2: 'typical angina', 3: 'atypical angina', 1: 'non-anginal pain', 0: 'asymptomatic'})\n",
        "heart['fbs'] = heart['fbs'].apply(lambda x: np.random.triangular(121, 145, 200) if x==1 else np.random.triangular(68, 100, 119)).astype(int)\n",
        "heart['restecg'] = heart['restecg'].map({0:'normal', 1:'ST-T abnormality', 2:'left ventricular hypertrophy'})\n",
        "heart['exang'] = heart['exang'].map({1:'angina', 0:'no angina'})\n",
        "heart['slope'] = heart['slope'].map({0:'upsloping', 1:'flat', 2:'downsloping'})\n",
        "heart['thal'] = heart['thal'].map({2:'no thalassemia', 1:'fixed defect', 3: 'reversable defect'})"
      ],
      "execution_count": null,
      "outputs": []
    },
    {
      "cell_type": "code",
      "metadata": {
        "id": "9g2JiNFFz3Xc",
        "colab": {
          "base_uri": "https://localhost:8080/",
          "height": 206
        },
        "outputId": "a688dda2-b082-4dee-91c4-18cf15b04834"
      },
      "source": [
        "heart.sample(5)"
      ],
      "execution_count": null,
      "outputs": [
        {
          "output_type": "execute_result",
          "data": {
            "text/html": [
              "<div>\n",
              "<style scoped>\n",
              "    .dataframe tbody tr th:only-of-type {\n",
              "        vertical-align: middle;\n",
              "    }\n",
              "\n",
              "    .dataframe tbody tr th {\n",
              "        vertical-align: top;\n",
              "    }\n",
              "\n",
              "    .dataframe thead th {\n",
              "        text-align: right;\n",
              "    }\n",
              "</style>\n",
              "<table border=\"1\" class=\"dataframe\">\n",
              "  <thead>\n",
              "    <tr style=\"text-align: right;\">\n",
              "      <th></th>\n",
              "      <th>age</th>\n",
              "      <th>sex</th>\n",
              "      <th>cp</th>\n",
              "      <th>trestbps</th>\n",
              "      <th>chol</th>\n",
              "      <th>fbs</th>\n",
              "      <th>restecg</th>\n",
              "      <th>thalach</th>\n",
              "      <th>exang</th>\n",
              "      <th>oldpeak</th>\n",
              "      <th>slope</th>\n",
              "      <th>ca</th>\n",
              "      <th>thal</th>\n",
              "      <th>target</th>\n",
              "    </tr>\n",
              "  </thead>\n",
              "  <tbody>\n",
              "    <tr>\n",
              "      <th>101</th>\n",
              "      <td>59</td>\n",
              "      <td>male</td>\n",
              "      <td>atypical angina</td>\n",
              "      <td>178</td>\n",
              "      <td>270</td>\n",
              "      <td>86</td>\n",
              "      <td>normal</td>\n",
              "      <td>145</td>\n",
              "      <td>no angina</td>\n",
              "      <td>4.2</td>\n",
              "      <td>upsloping</td>\n",
              "      <td>0</td>\n",
              "      <td>reversable defect</td>\n",
              "      <td>heart disease</td>\n",
              "    </tr>\n",
              "    <tr>\n",
              "      <th>197</th>\n",
              "      <td>67</td>\n",
              "      <td>male</td>\n",
              "      <td>asymptomatic</td>\n",
              "      <td>125</td>\n",
              "      <td>254</td>\n",
              "      <td>147</td>\n",
              "      <td>ST-T abnormality</td>\n",
              "      <td>163</td>\n",
              "      <td>no angina</td>\n",
              "      <td>0.2</td>\n",
              "      <td>flat</td>\n",
              "      <td>2</td>\n",
              "      <td>reversable defect</td>\n",
              "      <td>no heart disease</td>\n",
              "    </tr>\n",
              "    <tr>\n",
              "      <th>7</th>\n",
              "      <td>44</td>\n",
              "      <td>male</td>\n",
              "      <td>non-anginal pain</td>\n",
              "      <td>120</td>\n",
              "      <td>263</td>\n",
              "      <td>92</td>\n",
              "      <td>ST-T abnormality</td>\n",
              "      <td>173</td>\n",
              "      <td>no angina</td>\n",
              "      <td>0.0</td>\n",
              "      <td>downsloping</td>\n",
              "      <td>0</td>\n",
              "      <td>reversable defect</td>\n",
              "      <td>heart disease</td>\n",
              "    </tr>\n",
              "    <tr>\n",
              "      <th>121</th>\n",
              "      <td>59</td>\n",
              "      <td>male</td>\n",
              "      <td>asymptomatic</td>\n",
              "      <td>138</td>\n",
              "      <td>271</td>\n",
              "      <td>79</td>\n",
              "      <td>normal</td>\n",
              "      <td>182</td>\n",
              "      <td>no angina</td>\n",
              "      <td>0.0</td>\n",
              "      <td>downsloping</td>\n",
              "      <td>0</td>\n",
              "      <td>no thalassemia</td>\n",
              "      <td>heart disease</td>\n",
              "    </tr>\n",
              "    <tr>\n",
              "      <th>17</th>\n",
              "      <td>66</td>\n",
              "      <td>female</td>\n",
              "      <td>atypical angina</td>\n",
              "      <td>150</td>\n",
              "      <td>226</td>\n",
              "      <td>97</td>\n",
              "      <td>ST-T abnormality</td>\n",
              "      <td>114</td>\n",
              "      <td>no angina</td>\n",
              "      <td>2.6</td>\n",
              "      <td>upsloping</td>\n",
              "      <td>0</td>\n",
              "      <td>no thalassemia</td>\n",
              "      <td>heart disease</td>\n",
              "    </tr>\n",
              "  </tbody>\n",
              "</table>\n",
              "</div>"
            ],
            "text/plain": [
              "     age     sex                cp  ...  ca               thal            target\n",
              "101   59    male   atypical angina  ...   0  reversable defect     heart disease\n",
              "197   67    male      asymptomatic  ...   2  reversable defect  no heart disease\n",
              "7     44    male  non-anginal pain  ...   0  reversable defect     heart disease\n",
              "121   59    male      asymptomatic  ...   0     no thalassemia     heart disease\n",
              "17    66  female   atypical angina  ...   0     no thalassemia     heart disease\n",
              "\n",
              "[5 rows x 14 columns]"
            ]
          },
          "metadata": {},
          "execution_count": 14
        }
      ]
    },
    {
      "cell_type": "markdown",
      "metadata": {
        "id": "az_SQ9Ktz3Xc"
      },
      "source": [
        "Learning the context of which data was obtained is incredibly important. \n",
        "<br>Take a moment to look through the original study documentation: https://archive.ics.uci.edu/ml/datasets/heart+Disease"
      ]
    },
    {
      "cell_type": "markdown",
      "metadata": {
        "id": "CXh6TEBfz3Xd"
      },
      "source": [
        "In groups, answer the following questions:\n",
        "\n",
        "1. How many hospitals was this data pulled from? Around what year(s)?\n",
        "2. What does the `chol` feature measure?\n",
        "3. In this sample, what proportion of patients had the target condition? *(Use code for this)*\n",
        "4. Lastly, **what type of ML problem is this**? (Supervised vs. Unsupervised? Classification vs. Regression?)"
      ]
    },
    {
      "cell_type": "code",
      "metadata": {
        "id": "2YnNxRNQz3Xe"
      },
      "source": [
        "# Answers\n"
      ],
      "execution_count": null,
      "outputs": []
    },
    {
      "cell_type": "markdown",
      "metadata": {
        "id": "Adri1WGLz3Xe"
      },
      "source": [
        "## Preprocessing the data"
      ]
    },
    {
      "cell_type": "markdown",
      "metadata": {
        "id": "2RBp0bojz3Xf"
      },
      "source": [
        "Algorithms don't have the innate ability to translate English words into mathematical models. We've gotta do that work ourselves.\n",
        "\n",
        "Overall, **our goal is to get *text* into *numbers* **. There's a couple strategies here:"
      ]
    },
    {
      "cell_type": "markdown",
      "metadata": {
        "id": "15Ls2Oe1z3Xf"
      },
      "source": [
        "#### Binary Indicator Variables"
      ]
    },
    {
      "cell_type": "markdown",
      "metadata": {
        "id": "7q9fQm3Xz3Xf"
      },
      "source": [
        "Indicator variables are always coded as `1` or `0`, usually corresponding to *condition present* `1` or *condition absent* `0` for that particular observation."
      ]
    },
    {
      "cell_type": "markdown",
      "metadata": {
        "id": "1gcW4MHbz3Xf"
      },
      "source": [
        "For example, heart disease can come in various forms of severity, BUT if we're just interested in **whether or not** the patient has some heart disease, we'll *binarize* that column."
      ]
    },
    {
      "cell_type": "code",
      "metadata": {
        "id": "1eMvQ7iKz3Xg"
      },
      "source": [
        "heart['target'] = heart.target.map({'heart disease': 1, 'no heart disease': 0})"
      ],
      "execution_count": null,
      "outputs": []
    },
    {
      "cell_type": "markdown",
      "metadata": {
        "id": "LainW8q-z3Xg"
      },
      "source": [
        "Another common use case is with sex. Use the `.map()` function to code females as `1`, and males as `0`. "
      ]
    },
    {
      "cell_type": "code",
      "metadata": {
        "id": "j_xyTSuX3NtT"
      },
      "source": [
        "heart['sex'] = heart.sex.map({'female' : 1, 'male':0})"
      ],
      "execution_count": null,
      "outputs": []
    },
    {
      "cell_type": "markdown",
      "metadata": {
        "id": "2xZRu3iWz3Xg"
      },
      "source": [
        "#### Binning into Intervals"
      ]
    },
    {
      "cell_type": "markdown",
      "metadata": {
        "id": "IDig_a9Fz3Xg"
      },
      "source": [
        "Sometimes continuous variables can be better categorized as bins. In other words, we can break up the full range of numbers into chunks."
      ]
    },
    {
      "cell_type": "markdown",
      "metadata": {
        "id": "_tPN6Irtz3Xg"
      },
      "source": [
        "One good use of this would be with the fasting blood sugar, using the `pd.cut()` function. We can use the medical criteria of 120 mg/dl as a threshold for high blood sugar."
      ]
    },
    {
      "cell_type": "code",
      "metadata": {
        "id": "XhcTwVoRz3Xg",
        "colab": {
          "base_uri": "https://localhost:8080/",
          "height": 542
        },
        "outputId": "dc3adf72-1441-4c91-e91c-0df5867ca910"
      },
      "source": [
        "px.histogram(heart, x='fbs', color='fbs_bin')"
      ],
      "execution_count": null,
      "outputs": [
        {
          "output_type": "display_data",
          "data": {
            "text/html": [
              "<html>\n",
              "<head><meta charset=\"utf-8\" /></head>\n",
              "<body>\n",
              "    <div>\n",
              "            <script src=\"https://cdnjs.cloudflare.com/ajax/libs/mathjax/2.7.5/MathJax.js?config=TeX-AMS-MML_SVG\"></script><script type=\"text/javascript\">if (window.MathJax) {MathJax.Hub.Config({SVG: {font: \"STIX-Web\"}});}</script>\n",
              "                <script type=\"text/javascript\">window.PlotlyConfig = {MathJaxConfig: 'local'};</script>\n",
              "        <script src=\"https://cdn.plot.ly/plotly-latest.min.js\"></script>    \n",
              "            <div id=\"1a2be92a-7f51-41ee-b5b9-b6a5d2d96079\" class=\"plotly-graph-div\" style=\"height:525px; width:100%;\"></div>\n",
              "            <script type=\"text/javascript\">\n",
              "                \n",
              "                    window.PLOTLYENV=window.PLOTLYENV || {};\n",
              "                    \n",
              "                if (document.getElementById(\"1a2be92a-7f51-41ee-b5b9-b6a5d2d96079\")) {\n",
              "                    Plotly.newPlot(\n",
              "                        '1a2be92a-7f51-41ee-b5b9-b6a5d2d96079',\n",
              "                        [{\"alignmentgroup\": \"True\", \"bingroup\": \"x\", \"hoverlabel\": {\"namelength\": 0}, \"hovertemplate\": \"fbs_bin=high<br>fbs=%{x}<br>count=%{y}\", \"legendgroup\": \"fbs_bin=high\", \"marker\": {\"color\": \"#636efa\"}, \"name\": \"fbs_bin=high\", \"offsetgroup\": \"fbs_bin=high\", \"orientation\": \"v\", \"showlegend\": true, \"type\": \"histogram\", \"x\": [122, 153, 152, 142, 150, 149, 147, 127, 175, 167, 184, 158, 163, 170, 167, 151, 174, 157, 148, 143, 131, 158, 145, 133, 157, 172, 147, 137, 179, 158, 134, 162, 137, 162, 161, 166, 164, 141, 130, 139, 136, 163, 140, 149, 160], \"xaxis\": \"x\", \"yaxis\": \"y\"}, {\"alignmentgroup\": \"True\", \"bingroup\": \"x\", \"hoverlabel\": {\"namelength\": 0}, \"hovertemplate\": \"fbs_bin=low<br>fbs=%{x}<br>count=%{y}\", \"legendgroup\": \"fbs_bin=low\", \"marker\": {\"color\": \"#EF553B\"}, \"name\": \"fbs_bin=low\", \"offsetgroup\": \"fbs_bin=low\", \"orientation\": \"v\", \"showlegend\": true, \"type\": \"histogram\", \"x\": [90, 95, 107, 111, 75, 90, 92, 101, 78, 100, 80, 94, 93, 94, 97, 89, 111, 91, 97, 87, 107, 78, 90, 84, 78, 96, 100, 81, 102, 97, 74, 102, 73, 74, 84, 102, 97, 101, 92, 111, 95, 111, 108, 87, 113, 95, 105, 87, 74, 98, 96, 99, 78, 116, 83, 112, 90, 103, 93, 91, 86, 94, 91, 112, 78, 93, 100, 99, 97, 84, 109, 94, 88, 87, 104, 98, 82, 94, 93, 89, 83, 91, 79, 86, 102, 102, 101, 77, 94, 106, 77, 101, 115, 110, 88, 88, 98, 85, 114, 89, 79, 87, 86, 88, 103, 112, 95, 93, 117, 112, 101, 94, 92, 82, 101, 98, 78, 91, 97, 94, 86, 92, 112, 94, 106, 71, 75, 96, 91, 91, 94, 84, 97, 96, 100, 96, 107, 85, 92, 91, 103, 101, 75, 85, 90, 112, 87, 88, 106, 99, 85, 97, 98, 94, 97, 97, 97, 99, 97, 99, 115, 75, 88, 112, 98, 103, 116, 81, 85, 89, 86, 79, 103, 83, 102, 91, 89, 109, 72, 109, 93, 109, 105, 77, 98, 90, 81, 93, 115, 91, 94, 87, 80, 101, 100, 84, 99, 101, 98, 103, 95, 101, 76, 86, 78, 101, 105, 107, 107, 93, 105, 101, 96, 101, 97, 80, 92, 88, 98, 106, 94, 99, 77, 105, 77, 85, 91, 98, 102, 97, 113, 75, 100, 114, 79, 95, 79, 104, 85, 85, 100, 84, 74, 90, 96, 87, 114, 104, 99, 98, 107, 89, 76, 112, 101, 102, 82, 76], \"xaxis\": \"x\", \"yaxis\": \"y\"}],\n",
              "                        {\"barmode\": \"relative\", \"legend\": {\"tracegroupgap\": 0}, \"margin\": {\"t\": 60}, \"template\": {\"data\": {\"bar\": [{\"error_x\": {\"color\": \"#2a3f5f\"}, \"error_y\": {\"color\": \"#2a3f5f\"}, \"marker\": {\"line\": {\"color\": \"#E5ECF6\", \"width\": 0.5}}, \"type\": \"bar\"}], \"barpolar\": [{\"marker\": {\"line\": {\"color\": \"#E5ECF6\", \"width\": 0.5}}, \"type\": \"barpolar\"}], \"carpet\": [{\"aaxis\": {\"endlinecolor\": \"#2a3f5f\", \"gridcolor\": \"white\", \"linecolor\": \"white\", \"minorgridcolor\": \"white\", \"startlinecolor\": \"#2a3f5f\"}, \"baxis\": {\"endlinecolor\": \"#2a3f5f\", \"gridcolor\": \"white\", \"linecolor\": \"white\", \"minorgridcolor\": \"white\", \"startlinecolor\": \"#2a3f5f\"}, \"type\": \"carpet\"}], \"choropleth\": [{\"colorbar\": {\"outlinewidth\": 0, \"ticks\": \"\"}, \"type\": \"choropleth\"}], \"contour\": [{\"colorbar\": {\"outlinewidth\": 0, \"ticks\": \"\"}, \"colorscale\": [[0.0, \"#0d0887\"], [0.1111111111111111, \"#46039f\"], [0.2222222222222222, \"#7201a8\"], [0.3333333333333333, \"#9c179e\"], [0.4444444444444444, \"#bd3786\"], [0.5555555555555556, \"#d8576b\"], [0.6666666666666666, \"#ed7953\"], [0.7777777777777778, \"#fb9f3a\"], [0.8888888888888888, \"#fdca26\"], [1.0, \"#f0f921\"]], \"type\": \"contour\"}], \"contourcarpet\": [{\"colorbar\": {\"outlinewidth\": 0, \"ticks\": \"\"}, \"type\": \"contourcarpet\"}], \"heatmap\": [{\"colorbar\": {\"outlinewidth\": 0, \"ticks\": \"\"}, \"colorscale\": [[0.0, \"#0d0887\"], [0.1111111111111111, \"#46039f\"], [0.2222222222222222, \"#7201a8\"], [0.3333333333333333, \"#9c179e\"], [0.4444444444444444, \"#bd3786\"], [0.5555555555555556, \"#d8576b\"], [0.6666666666666666, \"#ed7953\"], [0.7777777777777778, \"#fb9f3a\"], [0.8888888888888888, \"#fdca26\"], [1.0, \"#f0f921\"]], \"type\": \"heatmap\"}], \"heatmapgl\": [{\"colorbar\": {\"outlinewidth\": 0, \"ticks\": \"\"}, \"colorscale\": [[0.0, \"#0d0887\"], [0.1111111111111111, \"#46039f\"], [0.2222222222222222, \"#7201a8\"], [0.3333333333333333, \"#9c179e\"], [0.4444444444444444, \"#bd3786\"], [0.5555555555555556, \"#d8576b\"], [0.6666666666666666, \"#ed7953\"], [0.7777777777777778, \"#fb9f3a\"], [0.8888888888888888, \"#fdca26\"], [1.0, \"#f0f921\"]], \"type\": \"heatmapgl\"}], \"histogram\": [{\"marker\": {\"colorbar\": {\"outlinewidth\": 0, \"ticks\": \"\"}}, \"type\": \"histogram\"}], \"histogram2d\": [{\"colorbar\": {\"outlinewidth\": 0, \"ticks\": \"\"}, \"colorscale\": [[0.0, \"#0d0887\"], [0.1111111111111111, \"#46039f\"], [0.2222222222222222, \"#7201a8\"], [0.3333333333333333, \"#9c179e\"], [0.4444444444444444, \"#bd3786\"], [0.5555555555555556, \"#d8576b\"], [0.6666666666666666, \"#ed7953\"], [0.7777777777777778, \"#fb9f3a\"], [0.8888888888888888, \"#fdca26\"], [1.0, \"#f0f921\"]], \"type\": \"histogram2d\"}], \"histogram2dcontour\": [{\"colorbar\": {\"outlinewidth\": 0, \"ticks\": \"\"}, \"colorscale\": [[0.0, \"#0d0887\"], [0.1111111111111111, \"#46039f\"], [0.2222222222222222, \"#7201a8\"], [0.3333333333333333, \"#9c179e\"], [0.4444444444444444, \"#bd3786\"], [0.5555555555555556, \"#d8576b\"], [0.6666666666666666, \"#ed7953\"], [0.7777777777777778, \"#fb9f3a\"], [0.8888888888888888, \"#fdca26\"], [1.0, \"#f0f921\"]], \"type\": \"histogram2dcontour\"}], \"mesh3d\": [{\"colorbar\": {\"outlinewidth\": 0, \"ticks\": \"\"}, \"type\": \"mesh3d\"}], \"parcoords\": [{\"line\": {\"colorbar\": {\"outlinewidth\": 0, \"ticks\": \"\"}}, \"type\": \"parcoords\"}], \"pie\": [{\"automargin\": true, \"type\": \"pie\"}], \"scatter\": [{\"marker\": {\"colorbar\": {\"outlinewidth\": 0, \"ticks\": \"\"}}, \"type\": \"scatter\"}], \"scatter3d\": [{\"line\": {\"colorbar\": {\"outlinewidth\": 0, \"ticks\": \"\"}}, \"marker\": {\"colorbar\": {\"outlinewidth\": 0, \"ticks\": \"\"}}, \"type\": \"scatter3d\"}], \"scattercarpet\": [{\"marker\": {\"colorbar\": {\"outlinewidth\": 0, \"ticks\": \"\"}}, \"type\": \"scattercarpet\"}], \"scattergeo\": [{\"marker\": {\"colorbar\": {\"outlinewidth\": 0, \"ticks\": \"\"}}, \"type\": \"scattergeo\"}], \"scattergl\": [{\"marker\": {\"colorbar\": {\"outlinewidth\": 0, \"ticks\": \"\"}}, \"type\": \"scattergl\"}], \"scattermapbox\": [{\"marker\": {\"colorbar\": {\"outlinewidth\": 0, \"ticks\": \"\"}}, \"type\": \"scattermapbox\"}], \"scatterpolar\": [{\"marker\": {\"colorbar\": {\"outlinewidth\": 0, \"ticks\": \"\"}}, \"type\": \"scatterpolar\"}], \"scatterpolargl\": [{\"marker\": {\"colorbar\": {\"outlinewidth\": 0, \"ticks\": \"\"}}, \"type\": \"scatterpolargl\"}], \"scatterternary\": [{\"marker\": {\"colorbar\": {\"outlinewidth\": 0, \"ticks\": \"\"}}, \"type\": \"scatterternary\"}], \"surface\": [{\"colorbar\": {\"outlinewidth\": 0, \"ticks\": \"\"}, \"colorscale\": [[0.0, \"#0d0887\"], [0.1111111111111111, \"#46039f\"], [0.2222222222222222, \"#7201a8\"], [0.3333333333333333, \"#9c179e\"], [0.4444444444444444, \"#bd3786\"], [0.5555555555555556, \"#d8576b\"], [0.6666666666666666, \"#ed7953\"], [0.7777777777777778, \"#fb9f3a\"], [0.8888888888888888, \"#fdca26\"], [1.0, \"#f0f921\"]], \"type\": \"surface\"}], \"table\": [{\"cells\": {\"fill\": {\"color\": \"#EBF0F8\"}, \"line\": {\"color\": \"white\"}}, \"header\": {\"fill\": {\"color\": \"#C8D4E3\"}, \"line\": {\"color\": \"white\"}}, \"type\": \"table\"}]}, \"layout\": {\"annotationdefaults\": {\"arrowcolor\": \"#2a3f5f\", \"arrowhead\": 0, \"arrowwidth\": 1}, \"coloraxis\": {\"colorbar\": {\"outlinewidth\": 0, \"ticks\": \"\"}}, \"colorscale\": {\"diverging\": [[0, \"#8e0152\"], [0.1, \"#c51b7d\"], [0.2, \"#de77ae\"], [0.3, \"#f1b6da\"], [0.4, \"#fde0ef\"], [0.5, \"#f7f7f7\"], [0.6, \"#e6f5d0\"], [0.7, \"#b8e186\"], [0.8, \"#7fbc41\"], [0.9, \"#4d9221\"], [1, \"#276419\"]], \"sequential\": [[0.0, \"#0d0887\"], [0.1111111111111111, \"#46039f\"], [0.2222222222222222, \"#7201a8\"], [0.3333333333333333, \"#9c179e\"], [0.4444444444444444, \"#bd3786\"], [0.5555555555555556, \"#d8576b\"], [0.6666666666666666, \"#ed7953\"], [0.7777777777777778, \"#fb9f3a\"], [0.8888888888888888, \"#fdca26\"], [1.0, \"#f0f921\"]], \"sequentialminus\": [[0.0, \"#0d0887\"], [0.1111111111111111, \"#46039f\"], [0.2222222222222222, \"#7201a8\"], [0.3333333333333333, \"#9c179e\"], [0.4444444444444444, \"#bd3786\"], [0.5555555555555556, \"#d8576b\"], [0.6666666666666666, \"#ed7953\"], [0.7777777777777778, \"#fb9f3a\"], [0.8888888888888888, \"#fdca26\"], [1.0, \"#f0f921\"]]}, \"colorway\": [\"#636efa\", \"#EF553B\", \"#00cc96\", \"#ab63fa\", \"#FFA15A\", \"#19d3f3\", \"#FF6692\", \"#B6E880\", \"#FF97FF\", \"#FECB52\"], \"font\": {\"color\": \"#2a3f5f\"}, \"geo\": {\"bgcolor\": \"white\", \"lakecolor\": \"white\", \"landcolor\": \"#E5ECF6\", \"showlakes\": true, \"showland\": true, \"subunitcolor\": \"white\"}, \"hoverlabel\": {\"align\": \"left\"}, \"hovermode\": \"closest\", \"mapbox\": {\"style\": \"light\"}, \"paper_bgcolor\": \"white\", \"plot_bgcolor\": \"#E5ECF6\", \"polar\": {\"angularaxis\": {\"gridcolor\": \"white\", \"linecolor\": \"white\", \"ticks\": \"\"}, \"bgcolor\": \"#E5ECF6\", \"radialaxis\": {\"gridcolor\": \"white\", \"linecolor\": \"white\", \"ticks\": \"\"}}, \"scene\": {\"xaxis\": {\"backgroundcolor\": \"#E5ECF6\", \"gridcolor\": \"white\", \"gridwidth\": 2, \"linecolor\": \"white\", \"showbackground\": true, \"ticks\": \"\", \"zerolinecolor\": \"white\"}, \"yaxis\": {\"backgroundcolor\": \"#E5ECF6\", \"gridcolor\": \"white\", \"gridwidth\": 2, \"linecolor\": \"white\", \"showbackground\": true, \"ticks\": \"\", \"zerolinecolor\": \"white\"}, \"zaxis\": {\"backgroundcolor\": \"#E5ECF6\", \"gridcolor\": \"white\", \"gridwidth\": 2, \"linecolor\": \"white\", \"showbackground\": true, \"ticks\": \"\", \"zerolinecolor\": \"white\"}}, \"shapedefaults\": {\"line\": {\"color\": \"#2a3f5f\"}}, \"ternary\": {\"aaxis\": {\"gridcolor\": \"white\", \"linecolor\": \"white\", \"ticks\": \"\"}, \"baxis\": {\"gridcolor\": \"white\", \"linecolor\": \"white\", \"ticks\": \"\"}, \"bgcolor\": \"#E5ECF6\", \"caxis\": {\"gridcolor\": \"white\", \"linecolor\": \"white\", \"ticks\": \"\"}}, \"title\": {\"x\": 0.05}, \"xaxis\": {\"automargin\": true, \"gridcolor\": \"white\", \"linecolor\": \"white\", \"ticks\": \"\", \"title\": {\"standoff\": 15}, \"zerolinecolor\": \"white\", \"zerolinewidth\": 2}, \"yaxis\": {\"automargin\": true, \"gridcolor\": \"white\", \"linecolor\": \"white\", \"ticks\": \"\", \"title\": {\"standoff\": 15}, \"zerolinecolor\": \"white\", \"zerolinewidth\": 2}}}, \"xaxis\": {\"anchor\": \"y\", \"domain\": [0.0, 1.0], \"title\": {\"text\": \"fbs\"}}, \"yaxis\": {\"anchor\": \"x\", \"domain\": [0.0, 1.0], \"title\": {\"text\": \"count\"}}},\n",
              "                        {\"responsive\": true}\n",
              "                    ).then(function(){\n",
              "                            \n",
              "var gd = document.getElementById('1a2be92a-7f51-41ee-b5b9-b6a5d2d96079');\n",
              "var x = new MutationObserver(function (mutations, observer) {{\n",
              "        var display = window.getComputedStyle(gd).display;\n",
              "        if (!display || display === 'none') {{\n",
              "            console.log([gd, 'removed!']);\n",
              "            Plotly.purge(gd);\n",
              "            observer.disconnect();\n",
              "        }}\n",
              "}});\n",
              "\n",
              "// Listen for the removal of the full notebook cells\n",
              "var notebookContainer = gd.closest('#notebook-container');\n",
              "if (notebookContainer) {{\n",
              "    x.observe(notebookContainer, {childList: true});\n",
              "}}\n",
              "\n",
              "// Listen for the clearing of the current output cell\n",
              "var outputEl = gd.closest('.output');\n",
              "if (outputEl) {{\n",
              "    x.observe(outputEl, {childList: true});\n",
              "}}\n",
              "\n",
              "                        })\n",
              "                };\n",
              "                \n",
              "            </script>\n",
              "        </div>\n",
              "</body>\n",
              "</html>"
            ]
          },
          "metadata": {}
        }
      ]
    },
    {
      "cell_type": "code",
      "metadata": {
        "id": "lIMWLRh0z3Xh"
      },
      "source": [
        "heart['fbs_bin'] = pd.cut(heart.fbs, bins=[0,120,200], labels=['low', 'high'])"
      ],
      "execution_count": null,
      "outputs": []
    },
    {
      "cell_type": "code",
      "metadata": {
        "id": "7pRULQJ94Pn2"
      },
      "source": [
        "heart = heart.drop(columns=['fbs'])"
      ],
      "execution_count": null,
      "outputs": []
    },
    {
      "cell_type": "markdown",
      "metadata": {
        "id": "1jrS4G1Lz3Xh"
      },
      "source": [
        "#### Dummy Variables"
      ]
    },
    {
      "cell_type": "markdown",
      "metadata": {
        "id": "wvR_ibATz3Xh"
      },
      "source": [
        "Binarizing is great, but happens when we have more than 2 categories? \n",
        "\n",
        "The best way to handle this is to create *new unique column for every category*. \n",
        "<br>We can do this using Pandas' `get_dummies()` function."
      ]
    },
    {
      "cell_type": "code",
      "metadata": {
        "id": "QkEC3cEgz3Xh"
      },
      "source": [
        "# Quick helper\n",
        "from IPython.display import display_html\n",
        "def display_side_by_side(*args):\n",
        "    html_str=''\n",
        "    for df in args:\n",
        "        html_str+=df.to_html()\n",
        "    display_html(html_str.replace('table','table style=\\\"display:inline\\\"'),raw=True)"
      ],
      "execution_count": null,
      "outputs": []
    },
    {
      "cell_type": "code",
      "metadata": {
        "id": "AZY8srGOz3Xh",
        "colab": {
          "base_uri": "https://localhost:8080/",
          "height": 206
        },
        "outputId": "b8f10014-1a39-42e7-bbe6-d9d950803278"
      },
      "source": [
        "display_side_by_side(heart[['cp']].head(5), pd.get_dummies(heart['cp'],prefix='cp').head(5))"
      ],
      "execution_count": null,
      "outputs": [
        {
          "output_type": "display_data",
          "data": {
            "text/html": [
              "<table style=\"display:inline\" border=\"1\" class=\"dataframe\">\n",
              "  <thead>\n",
              "    <tr style=\"text-align: right;\">\n",
              "      <th></th>\n",
              "      <th>cp</th>\n",
              "    </tr>\n",
              "  </thead>\n",
              "  <tbody>\n",
              "    <tr>\n",
              "      <th>0</th>\n",
              "      <td>atypical angina</td>\n",
              "    </tr>\n",
              "    <tr>\n",
              "      <th>1</th>\n",
              "      <td>typical angina</td>\n",
              "    </tr>\n",
              "    <tr>\n",
              "      <th>2</th>\n",
              "      <td>non-anginal pain</td>\n",
              "    </tr>\n",
              "    <tr>\n",
              "      <th>3</th>\n",
              "      <td>non-anginal pain</td>\n",
              "    </tr>\n",
              "    <tr>\n",
              "      <th>4</th>\n",
              "      <td>asymptomatic</td>\n",
              "    </tr>\n",
              "  </tbody>\n",
              "</table style=\"display:inline\"><table style=\"display:inline\" border=\"1\" class=\"dataframe\">\n",
              "  <thead>\n",
              "    <tr style=\"text-align: right;\">\n",
              "      <th></th>\n",
              "      <th>cp_asymptomatic</th>\n",
              "      <th>cp_atypical angina</th>\n",
              "      <th>cp_non-anginal pain</th>\n",
              "      <th>cp_typical angina</th>\n",
              "    </tr>\n",
              "  </thead>\n",
              "  <tbody>\n",
              "    <tr>\n",
              "      <th>0</th>\n",
              "      <td>0</td>\n",
              "      <td>1</td>\n",
              "      <td>0</td>\n",
              "      <td>0</td>\n",
              "    </tr>\n",
              "    <tr>\n",
              "      <th>1</th>\n",
              "      <td>0</td>\n",
              "      <td>0</td>\n",
              "      <td>0</td>\n",
              "      <td>1</td>\n",
              "    </tr>\n",
              "    <tr>\n",
              "      <th>2</th>\n",
              "      <td>0</td>\n",
              "      <td>0</td>\n",
              "      <td>1</td>\n",
              "      <td>0</td>\n",
              "    </tr>\n",
              "    <tr>\n",
              "      <th>3</th>\n",
              "      <td>0</td>\n",
              "      <td>0</td>\n",
              "      <td>1</td>\n",
              "      <td>0</td>\n",
              "    </tr>\n",
              "    <tr>\n",
              "      <th>4</th>\n",
              "      <td>1</td>\n",
              "      <td>0</td>\n",
              "      <td>0</td>\n",
              "      <td>0</td>\n",
              "    </tr>\n",
              "  </tbody>\n",
              "</table style=\"display:inline\">"
            ]
          },
          "metadata": {}
        }
      ]
    },
    {
      "cell_type": "markdown",
      "metadata": {
        "id": "n06EmTj0z3Xh"
      },
      "source": [
        "Because of some intricacies with the underlying linear algebra, we always drop one of the columns, and consider the others relative to it.\n",
        "\n",
        "That way, if all three columns are `0`, we can assume the chest pain type was asymptomatic."
      ]
    },
    {
      "cell_type": "code",
      "metadata": {
        "id": "ts_RLeVyz3Xh",
        "colab": {
          "base_uri": "https://localhost:8080/",
          "height": 206
        },
        "outputId": "e211a089-f078-4476-e7f2-2f9de3321fad"
      },
      "source": [
        "display_side_by_side(heart[['cp']].head(5), pd.get_dummies(heart['cp'],prefix='cp', drop_first=True).head(5))"
      ],
      "execution_count": null,
      "outputs": [
        {
          "output_type": "display_data",
          "data": {
            "text/html": [
              "<table style=\"display:inline\" border=\"1\" class=\"dataframe\">\n",
              "  <thead>\n",
              "    <tr style=\"text-align: right;\">\n",
              "      <th></th>\n",
              "      <th>cp</th>\n",
              "    </tr>\n",
              "  </thead>\n",
              "  <tbody>\n",
              "    <tr>\n",
              "      <th>0</th>\n",
              "      <td>atypical angina</td>\n",
              "    </tr>\n",
              "    <tr>\n",
              "      <th>1</th>\n",
              "      <td>typical angina</td>\n",
              "    </tr>\n",
              "    <tr>\n",
              "      <th>2</th>\n",
              "      <td>non-anginal pain</td>\n",
              "    </tr>\n",
              "    <tr>\n",
              "      <th>3</th>\n",
              "      <td>non-anginal pain</td>\n",
              "    </tr>\n",
              "    <tr>\n",
              "      <th>4</th>\n",
              "      <td>asymptomatic</td>\n",
              "    </tr>\n",
              "  </tbody>\n",
              "</table style=\"display:inline\"><table style=\"display:inline\" border=\"1\" class=\"dataframe\">\n",
              "  <thead>\n",
              "    <tr style=\"text-align: right;\">\n",
              "      <th></th>\n",
              "      <th>cp_atypical angina</th>\n",
              "      <th>cp_non-anginal pain</th>\n",
              "      <th>cp_typical angina</th>\n",
              "    </tr>\n",
              "  </thead>\n",
              "  <tbody>\n",
              "    <tr>\n",
              "      <th>0</th>\n",
              "      <td>1</td>\n",
              "      <td>0</td>\n",
              "      <td>0</td>\n",
              "    </tr>\n",
              "    <tr>\n",
              "      <th>1</th>\n",
              "      <td>0</td>\n",
              "      <td>0</td>\n",
              "      <td>1</td>\n",
              "    </tr>\n",
              "    <tr>\n",
              "      <th>2</th>\n",
              "      <td>0</td>\n",
              "      <td>1</td>\n",
              "      <td>0</td>\n",
              "    </tr>\n",
              "    <tr>\n",
              "      <th>3</th>\n",
              "      <td>0</td>\n",
              "      <td>1</td>\n",
              "      <td>0</td>\n",
              "    </tr>\n",
              "    <tr>\n",
              "      <th>4</th>\n",
              "      <td>0</td>\n",
              "      <td>0</td>\n",
              "      <td>0</td>\n",
              "    </tr>\n",
              "  </tbody>\n",
              "</table style=\"display:inline\">"
            ]
          },
          "metadata": {}
        }
      ]
    },
    {
      "cell_type": "markdown",
      "metadata": {
        "id": "4NgZ9Sw5z3Xh"
      },
      "source": [
        "Instead of doing this on each categorical column, we can specify a list of features to do it on:"
      ]
    },
    {
      "cell_type": "code",
      "metadata": {
        "id": "Th_XfsjPz3Xi"
      },
      "source": [
        "categ_cols = ['cp','restecg', 'thal', 'slope', 'exang', 'sex', 'fbs_bin']\n",
        "\n",
        "heart_processed = pd.get_dummies(heart, columns=categ_cols, drop_first=True)"
      ],
      "execution_count": null,
      "outputs": []
    },
    {
      "cell_type": "markdown",
      "metadata": {
        "id": "Xh_93TX8z3Xi"
      },
      "source": [
        "#### TLDR"
      ]
    },
    {
      "cell_type": "markdown",
      "metadata": {
        "id": "WhyR9odWz3Xi"
      },
      "source": [
        "This was a lot, I know. But it's incredibly important to understand the *rationale* behind each data transformation. \n",
        "\n",
        "In general, we want to convert text / information => numbers that can represent them. To do so, we can:\n",
        "\n",
        "1. Binarize features\n",
        "2. Bin based on intervals\n",
        "3. Create dummy variables for columns with multiple categories"
      ]
    },
    {
      "cell_type": "markdown",
      "metadata": {
        "id": "BkLGnKdkz3Xi"
      },
      "source": [
        "## Preparing data structures for the model"
      ]
    },
    {
      "cell_type": "markdown",
      "metadata": {
        "id": "XD6ilRDsz3Xl"
      },
      "source": [
        "#### Step #1: Split the dataset into **feature and target variables**"
      ]
    },
    {
      "cell_type": "markdown",
      "metadata": {
        "id": "vN9hS4Hoz3Xl"
      },
      "source": [
        "Different fields use different names, but think of *feature* vars as your (multiple) independent variables, and *target* var as the singular dependent variable."
      ]
    },
    {
      "cell_type": "code",
      "metadata": {
        "id": "mOVL-Ty7z3Xl"
      },
      "source": [
        "X = heart_processed.drop(columns=['target']) #dataframe\n",
        "y = heart_processed['target'] #series"
      ],
      "execution_count": null,
      "outputs": []
    },
    {
      "cell_type": "code",
      "metadata": {
        "id": "U4kdCgK-z3Xl",
        "colab": {
          "base_uri": "https://localhost:8080/",
          "height": 206
        },
        "outputId": "a00aa25a-2f99-40ed-d2f0-1ab1eea5fb7d"
      },
      "source": [
        "display_side_by_side(X.iloc[:5,:9],pd.DataFrame(y).head(5))"
      ],
      "execution_count": null,
      "outputs": [
        {
          "output_type": "display_data",
          "data": {
            "text/html": [
              "<table style=\"display:inline\" border=\"1\" class=\"dataframe\">\n",
              "  <thead>\n",
              "    <tr style=\"text-align: right;\">\n",
              "      <th></th>\n",
              "      <th>age</th>\n",
              "      <th>trestbps</th>\n",
              "      <th>chol</th>\n",
              "      <th>thalach</th>\n",
              "      <th>oldpeak</th>\n",
              "      <th>ca</th>\n",
              "      <th>cp_atypical angina</th>\n",
              "      <th>cp_non-anginal pain</th>\n",
              "      <th>cp_typical angina</th>\n",
              "    </tr>\n",
              "  </thead>\n",
              "  <tbody>\n",
              "    <tr>\n",
              "      <th>0</th>\n",
              "      <td>63</td>\n",
              "      <td>145</td>\n",
              "      <td>233</td>\n",
              "      <td>150</td>\n",
              "      <td>2.3</td>\n",
              "      <td>0</td>\n",
              "      <td>1</td>\n",
              "      <td>0</td>\n",
              "      <td>0</td>\n",
              "    </tr>\n",
              "    <tr>\n",
              "      <th>1</th>\n",
              "      <td>37</td>\n",
              "      <td>130</td>\n",
              "      <td>250</td>\n",
              "      <td>187</td>\n",
              "      <td>3.5</td>\n",
              "      <td>0</td>\n",
              "      <td>0</td>\n",
              "      <td>0</td>\n",
              "      <td>1</td>\n",
              "    </tr>\n",
              "    <tr>\n",
              "      <th>2</th>\n",
              "      <td>41</td>\n",
              "      <td>130</td>\n",
              "      <td>204</td>\n",
              "      <td>172</td>\n",
              "      <td>1.4</td>\n",
              "      <td>0</td>\n",
              "      <td>0</td>\n",
              "      <td>1</td>\n",
              "      <td>0</td>\n",
              "    </tr>\n",
              "    <tr>\n",
              "      <th>3</th>\n",
              "      <td>56</td>\n",
              "      <td>120</td>\n",
              "      <td>236</td>\n",
              "      <td>178</td>\n",
              "      <td>0.8</td>\n",
              "      <td>0</td>\n",
              "      <td>0</td>\n",
              "      <td>1</td>\n",
              "      <td>0</td>\n",
              "    </tr>\n",
              "    <tr>\n",
              "      <th>4</th>\n",
              "      <td>57</td>\n",
              "      <td>120</td>\n",
              "      <td>354</td>\n",
              "      <td>163</td>\n",
              "      <td>0.6</td>\n",
              "      <td>0</td>\n",
              "      <td>0</td>\n",
              "      <td>0</td>\n",
              "      <td>0</td>\n",
              "    </tr>\n",
              "  </tbody>\n",
              "</table style=\"display:inline\"><table style=\"display:inline\" border=\"1\" class=\"dataframe\">\n",
              "  <thead>\n",
              "    <tr style=\"text-align: right;\">\n",
              "      <th></th>\n",
              "      <th>target</th>\n",
              "    </tr>\n",
              "  </thead>\n",
              "  <tbody>\n",
              "    <tr>\n",
              "      <th>0</th>\n",
              "      <td>1</td>\n",
              "    </tr>\n",
              "    <tr>\n",
              "      <th>1</th>\n",
              "      <td>1</td>\n",
              "    </tr>\n",
              "    <tr>\n",
              "      <th>2</th>\n",
              "      <td>1</td>\n",
              "    </tr>\n",
              "    <tr>\n",
              "      <th>3</th>\n",
              "      <td>1</td>\n",
              "    </tr>\n",
              "    <tr>\n",
              "      <th>4</th>\n",
              "      <td>1</td>\n",
              "    </tr>\n",
              "  </tbody>\n",
              "</table style=\"display:inline\">"
            ]
          },
          "metadata": {}
        }
      ]
    },
    {
      "cell_type": "markdown",
      "metadata": {
        "id": "NYifaVwOz3Xl"
      },
      "source": [
        "#### Step #2: Split data into **training and testing data**"
      ]
    },
    {
      "cell_type": "markdown",
      "metadata": {
        "id": "1tqibNG5z3Xl"
      },
      "source": [
        "Why do we need to do this step? Think back to your SATs in high school. \n",
        "- When practicing for the exam, you were given practice tests that *resembled*, but weren't *exactly* the test you were about to take\n",
        "- If you'd been given the *actual* exam to practice with, your score during the real thing wouldn't mean anything: <br>It *would not* have measured your abilities as a student, just your ability to memorize the particular answers for that particular exam.\n",
        "<br>\n",
        "\n",
        "The same goes with teaching a ML model some patterns in the data. \n",
        "- To allow the model to learn, we pass it *training data*. (Our SAT practice exams)\n",
        "- To determine if the model really did learn, we'll feed in *testing data*. (The actual SAT exam)"
      ]
    },
    {
      "cell_type": "code",
      "metadata": {
        "id": "GsvAt8HNz3Xm"
      },
      "source": [
        "from sklearn.model_selection import train_test_split\n",
        "X_train, X_test, y_train, y_test = train_test_split(X, y, test_size=.33, random_state = 42)"
      ],
      "execution_count": null,
      "outputs": []
    },
    {
      "cell_type": "code",
      "metadata": {
        "colab": {
          "base_uri": "https://localhost:8080/"
        },
        "id": "OMvR85pW78EO",
        "outputId": "54594c1e-d9bf-460d-f82d-18c370b61354"
      },
      "source": [
        "X_train #shows number of rows\n",
        "y_train #^"
      ],
      "execution_count": null,
      "outputs": [
        {
          "output_type": "execute_result",
          "data": {
            "text/plain": [
              "37     1\n",
              "16     1\n",
              "126    1\n",
              "291    0\n",
              "273    0\n",
              "      ..\n",
              "188    0\n",
              "71     1\n",
              "106    1\n",
              "270    0\n",
              "102    1\n",
              "Name: target, Length: 203, dtype: int64"
            ]
          },
          "metadata": {},
          "execution_count": 31
        }
      ]
    },
    {
      "cell_type": "markdown",
      "metadata": {
        "id": "SQoD1BPCz3Xm"
      },
      "source": [
        "A few things here:\n",
        "- The `train_test_split` function returns 4 objects, which we're saving all seperately to train and test sets\n",
        "- We're passing in our feature dataframe `X` and target array `y`\n",
        "- We can control what fraction of the total observations should end up in testing set using the `test_size=` parameter. <br>80/20 splits are the convention (80% training, 20% testing).\n",
        "- Because we're randomly assigning which observations end up in which group, we're using the `random_state=` parameter to specify the RNG"
      ]
    },
    {
      "cell_type": "markdown",
      "metadata": {
        "id": "j6eOGOwvz3Xm"
      },
      "source": [
        "## Train / Evaluate the model"
      ]
    },
    {
      "cell_type": "markdown",
      "metadata": {
        "id": "h4me3IJZz3Xm"
      },
      "source": [
        "#### Step #1: Select the model"
      ]
    },
    {
      "cell_type": "markdown",
      "metadata": {
        "id": "1Udm_V3Hz3Xm"
      },
      "source": [
        "There are tons of models out there. Some are better at some tasks than others, but there hardly is ever a hard and fast rule that says: \"This is *always* the best algorithm to use\". You'll have to try out different ones and compare results."
      ]
    },
    {
      "cell_type": "code",
      "metadata": {
        "id": "JSWTpK7Q8eWI"
      },
      "source": [
        "from sklearn.tree import DecisionTreeClassifier #doing regressor would give us different outputs\n",
        "clf = DecisionTreeClassifier()"
      ],
      "execution_count": null,
      "outputs": []
    },
    {
      "cell_type": "markdown",
      "metadata": {
        "id": "MN16iUHgz3Xm"
      },
      "source": [
        "#### Step #2: Train the model "
      ]
    },
    {
      "cell_type": "markdown",
      "metadata": {
        "id": "ID2IN1d1z3Xm"
      },
      "source": [
        "Quite simply, this is where the model is **learning** the patterns in the data. To do so, we simply **fit** the model onto the training data. "
      ]
    },
    {
      "cell_type": "code",
      "metadata": {
        "id": "E2Hw1kQUz3Xm",
        "colab": {
          "base_uri": "https://localhost:8080/"
        },
        "outputId": "957f7fb9-223d-479c-cc57-6d2834e3c22d"
      },
      "source": [
        "clf.fit(X_train, y_train)"
      ],
      "execution_count": null,
      "outputs": [
        {
          "output_type": "execute_result",
          "data": {
            "text/plain": [
              "DecisionTreeClassifier(ccp_alpha=0.0, class_weight=None, criterion='gini',\n",
              "                       max_depth=None, max_features=None, max_leaf_nodes=None,\n",
              "                       min_impurity_decrease=0.0, min_impurity_split=None,\n",
              "                       min_samples_leaf=1, min_samples_split=2,\n",
              "                       min_weight_fraction_leaf=0.0, presort='deprecated',\n",
              "                       random_state=None, splitter='best')"
            ]
          },
          "metadata": {},
          "execution_count": 33
        }
      ]
    },
    {
      "cell_type": "markdown",
      "metadata": {
        "id": "CVkLEHEzz3Xn"
      },
      "source": [
        "Note all those little parameters? We can tune those down the line to improve our model. More on that week 7."
      ]
    },
    {
      "cell_type": "markdown",
      "metadata": {
        "id": "nlCj_LTcz3Xn"
      },
      "source": [
        "#### Step #3: Test the model"
      ]
    },
    {
      "cell_type": "markdown",
      "metadata": {
        "id": "ypab4dV3z3Xn"
      },
      "source": [
        "To see how well our model did, we simply:\n",
        "1. Predict the results, based on just the feature testing data\n",
        "2. Compare the results against the actual testing results"
      ]
    },
    {
      "cell_type": "code",
      "metadata": {
        "id": "Q2g9KEbNz3Xn",
        "colab": {
          "base_uri": "https://localhost:8080/"
        },
        "outputId": "1c9ca68b-1533-4e2f-e430-8ae4bb197432"
      },
      "source": [
        "predicted = clf.predict(X_test)\n",
        "actual = np.array(y_test)\n",
        "\n",
        "print('Look at first 10 predictions:')\n",
        "print('Predicted: ',predicted[:10])\n",
        "print('Actual:    ',actual[:10])"
      ],
      "execution_count": null,
      "outputs": [
        {
          "output_type": "stream",
          "name": "stdout",
          "text": [
            "Look at first 10 predictions:\n",
            "Predicted:  [0 1 1 0 1 1 1 0 1 0]\n",
            "Actual:     [0 0 1 0 1 1 1 0 0 1]\n"
          ]
        }
      ]
    },
    {
      "cell_type": "markdown",
      "metadata": {
        "id": "xhFpFL9iz3Xn"
      },
      "source": [
        "Well obviously, its hard to tell how we did by counting 1s and 0s, so we can use metrics like accuracy to capture the fraction of observations taken correctly."
      ]
    },
    {
      "cell_type": "code",
      "metadata": {
        "id": "pVbTTmzLz3Xn",
        "colab": {
          "base_uri": "https://localhost:8080/"
        },
        "outputId": "a90e9a2f-273e-48c7-d550-f48e4652207c"
      },
      "source": [
        "from sklearn.metrics import accuracy_score\n",
        "accuracy_tree = accuracy_score(predicted, actual)\n",
        "print(accuracy_tree)"
      ],
      "execution_count": null,
      "outputs": [
        {
          "output_type": "stream",
          "name": "stdout",
          "text": [
            "0.71\n"
          ]
        }
      ]
    },
    {
      "cell_type": "markdown",
      "metadata": {
        "id": "JlvdMqeBz3Xn"
      },
      "source": [
        "## You Try!"
      ]
    },
    {
      "cell_type": "markdown",
      "metadata": {
        "id": "HJaEkQlbz3Xo"
      },
      "source": [
        "Using a **logistic regression classifier**, train and evaluate the model:\n",
        "Which does better?"
      ]
    },
    {
      "cell_type": "code",
      "metadata": {
        "id": "JkxZBAvOz3Xo"
      },
      "source": [
        "from sklearn.linear_model import LogisticRegression\n",
        "clf = LogisticRegression()"
      ],
      "execution_count": null,
      "outputs": []
    },
    {
      "cell_type": "code",
      "metadata": {
        "id": "0_BBJVKbz3Xo",
        "colab": {
          "base_uri": "https://localhost:8080/"
        },
        "outputId": "9c97ee14-5685-41a8-d473-d54b4cf3f599"
      },
      "source": [
        "clf.fit(X_train, y_train)"
      ],
      "execution_count": null,
      "outputs": [
        {
          "output_type": "stream",
          "name": "stderr",
          "text": [
            "/usr/local/lib/python3.7/dist-packages/sklearn/linear_model/_logistic.py:940: ConvergenceWarning:\n",
            "\n",
            "lbfgs failed to converge (status=1):\n",
            "STOP: TOTAL NO. of ITERATIONS REACHED LIMIT.\n",
            "\n",
            "Increase the number of iterations (max_iter) or scale the data as shown in:\n",
            "    https://scikit-learn.org/stable/modules/preprocessing.html\n",
            "Please also refer to the documentation for alternative solver options:\n",
            "    https://scikit-learn.org/stable/modules/linear_model.html#logistic-regression\n",
            "\n"
          ]
        },
        {
          "output_type": "execute_result",
          "data": {
            "text/plain": [
              "LogisticRegression(C=1.0, class_weight=None, dual=False, fit_intercept=True,\n",
              "                   intercept_scaling=1, l1_ratio=None, max_iter=100,\n",
              "                   multi_class='auto', n_jobs=None, penalty='l2',\n",
              "                   random_state=None, solver='lbfgs', tol=0.0001, verbose=0,\n",
              "                   warm_start=False)"
            ]
          },
          "metadata": {},
          "execution_count": 40
        }
      ]
    },
    {
      "cell_type": "code",
      "metadata": {
        "id": "eZCqzNOpz3Xo",
        "colab": {
          "base_uri": "https://localhost:8080/"
        },
        "outputId": "4ccbfd0e-64e3-4bdf-8ed3-87def03417c3"
      },
      "source": [
        "predicted = clf.predict(X_test)\n",
        "actual = np.array(y_test)\n",
        "\n",
        "print('Look at first 10 predictions:')\n",
        "print('Predicted: ',predicted[:10])\n",
        "print('Actual:    ',actual[:10])"
      ],
      "execution_count": null,
      "outputs": [
        {
          "output_type": "stream",
          "name": "stdout",
          "text": [
            "Look at first 10 predictions:\n",
            "Predicted:  [0 0 1 0 1 1 1 0 0 1]\n",
            "Actual:     [0 0 1 0 1 1 1 0 0 1]\n"
          ]
        }
      ]
    },
    {
      "cell_type": "code",
      "metadata": {
        "id": "eALpHzRWz3Xo",
        "colab": {
          "base_uri": "https://localhost:8080/"
        },
        "outputId": "4bec7572-42ac-497e-b3c9-10419f5b6756"
      },
      "source": [
        "accuracy_logreg = accuracy_score(predicted, actual)\n",
        "print(accuracy_logreg)"
      ],
      "execution_count": null,
      "outputs": [
        {
          "output_type": "stream",
          "name": "stdout",
          "text": [
            "0.81\n"
          ]
        }
      ]
    },
    {
      "cell_type": "code",
      "metadata": {
        "id": "nC0NCPFgAH0w"
      },
      "source": [
        "from sklearn.neighbors import KNeighborsClassifier #probably did wrong\n",
        "clf = KNeighborsClassifier(n_neighbors=100)\n",
        "clf.fit(X_train, y_train)\n",
        "predicted = clf.predict(X_test)\n",
        "actual = np.array(y_test)\n"
      ],
      "execution_count": null,
      "outputs": []
    },
    {
      "cell_type": "code",
      "metadata": {
        "colab": {
          "base_uri": "https://localhost:8080/"
        },
        "id": "vH2E-auQBElk",
        "outputId": "cb4538b5-cff3-42ab-994f-6d9e4fb4cfba"
      },
      "source": [
        "accuracy_neigh = accuracy_score(predicted, actual)\n",
        "print(accuracy_neigh)"
      ],
      "execution_count": null,
      "outputs": [
        {
          "output_type": "stream",
          "name": "stdout",
          "text": [
            "0.72\n"
          ]
        }
      ]
    }
  ]
}